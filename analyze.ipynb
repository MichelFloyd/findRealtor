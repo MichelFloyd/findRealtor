{
 "cells": [
  {
   "cell_type": "markdown",
   "metadata": {},
   "source": [
    "# Analyze Real-Estate Sales and Selling Agents\n",
    "Having scraped a large amount of real-estate transaction data around our property we can now proceed to analyze it. Remember the objective: we're trying to get the best price for our property. Also we don't want a long sales cycle so there might be a tradeoff there."
   ]
  },
  {
   "cell_type": "code",
   "execution_count": 1,
   "metadata": {},
   "outputs": [],
   "source": [
    "import pandas as pd\n",
    "import numpy as np\n",
    "import datetime as dt\n",
    "from matplotlib import pyplot as plt\n",
    "import folium\n",
    "from folium import plugins\n",
    "import seaborn as sns\n",
    "from sklearn.metrics.pairwise import euclidean_distances\n",
    "\n",
    "pd.options.display.max_rows = 200\n",
    "pd.options.display.max_columns = 100"
   ]
  },
  {
   "cell_type": "code",
   "execution_count": 2,
   "metadata": {},
   "outputs": [],
   "source": [
    "# read in the data we scraped, setting the index to the zpid\n",
    "df = pd.read_csv('comps-2-3.5M.csv').set_index('zpid')\n",
    "df.drop(columns='Unnamed: 0',inplace=True)"
   ]
  },
  {
   "cell_type": "code",
   "execution_count": 3,
   "metadata": {},
   "outputs": [
    {
     "data": {
      "text/plain": [
       "Index(['address', 'zipcode', 'latitude', 'longitude', 'beds', 'baths', 'area',\n",
       "       'dateSold', 'yearBuilt', 'lotSize', 'zestimate', 'sellingPrice',\n",
       "       'sellerAgent', 'sellerAgentUrl', 'listedAt', 'firstListingPrice',\n",
       "       'timesListed', 'zEstimate_at_listing', 'zEstimate_date', 'url'],\n",
       "      dtype='object')"
      ]
     },
     "execution_count": 3,
     "metadata": {},
     "output_type": "execute_result"
    }
   ],
   "source": [
    "df.columns"
   ]
  },
  {
   "cell_type": "code",
   "execution_count": 4,
   "metadata": {},
   "outputs": [],
   "source": [
    "# convert date columns to dates\n",
    "df['dateSold'] = pd.to_datetime(df['dateSold']).dt.date\n",
    "df['listedAt'] = pd.to_datetime(df['listedAt']).dt.date\n",
    "df['yearSold'] = df['dateSold'].apply(lambda x: x.year)"
   ]
  },
  {
   "cell_type": "code",
   "execution_count": 5,
   "metadata": {},
   "outputs": [],
   "source": [
    "# add some features\n",
    "df['zEstimate ratio'] = df['sellingPrice']/df['zEstimate_at_listing']\n",
    "df['listing ratio'] = df['sellingPrice']/df['firstListingPrice']\n",
    "df['days to sell'] = (df['dateSold']-df['listedAt']).dt.days\n",
    "df['price per sf'] = df['sellingPrice']/df['area']"
   ]
  },
  {
   "cell_type": "code",
   "execution_count": 6,
   "metadata": {},
   "outputs": [],
   "source": [
    "# filter out the outliers in price\n",
    "df = df[(df.sellingPrice >= 2000000) & (df.sellingPrice <= 3500000)]"
   ]
  },
  {
   "cell_type": "code",
   "execution_count": 7,
   "metadata": {},
   "outputs": [
    {
     "data": {
      "text/html": [
       "<div>\n",
       "<style scoped>\n",
       "    .dataframe tbody tr th:only-of-type {\n",
       "        vertical-align: middle;\n",
       "    }\n",
       "\n",
       "    .dataframe tbody tr th {\n",
       "        vertical-align: top;\n",
       "    }\n",
       "\n",
       "    .dataframe thead th {\n",
       "        text-align: right;\n",
       "    }\n",
       "</style>\n",
       "<table border=\"1\" class=\"dataframe\">\n",
       "  <thead>\n",
       "    <tr style=\"text-align: right;\">\n",
       "      <th></th>\n",
       "      <th>zipcode</th>\n",
       "      <th>latitude</th>\n",
       "      <th>longitude</th>\n",
       "      <th>beds</th>\n",
       "      <th>baths</th>\n",
       "      <th>area</th>\n",
       "      <th>yearBuilt</th>\n",
       "      <th>lotSize</th>\n",
       "      <th>zestimate</th>\n",
       "      <th>sellingPrice</th>\n",
       "      <th>firstListingPrice</th>\n",
       "      <th>timesListed</th>\n",
       "      <th>zEstimate_at_listing</th>\n",
       "      <th>yearSold</th>\n",
       "      <th>zEstimate ratio</th>\n",
       "      <th>listing ratio</th>\n",
       "      <th>days to sell</th>\n",
       "      <th>price per sf</th>\n",
       "    </tr>\n",
       "  </thead>\n",
       "  <tbody>\n",
       "    <tr>\n",
       "      <th>count</th>\n",
       "      <td>403.000000</td>\n",
       "      <td>403.000000</td>\n",
       "      <td>403.000000</td>\n",
       "      <td>396.000000</td>\n",
       "      <td>390.000000</td>\n",
       "      <td>396.000000</td>\n",
       "      <td>403.000000</td>\n",
       "      <td>403.000000</td>\n",
       "      <td>3.880000e+02</td>\n",
       "      <td>4.030000e+02</td>\n",
       "      <td>3.370000e+02</td>\n",
       "      <td>403.000000</td>\n",
       "      <td>3.880000e+02</td>\n",
       "      <td>403.000000</td>\n",
       "      <td>388.000000</td>\n",
       "      <td>337.000000</td>\n",
       "      <td>337.000000</td>\n",
       "      <td>396.000000</td>\n",
       "    </tr>\n",
       "    <tr>\n",
       "      <th>mean</th>\n",
       "      <td>94062.645161</td>\n",
       "      <td>37.468937</td>\n",
       "      <td>-122.256436</td>\n",
       "      <td>3.848485</td>\n",
       "      <td>3.299359</td>\n",
       "      <td>2785.323232</td>\n",
       "      <td>1923.779156</td>\n",
       "      <td>14526.210918</td>\n",
       "      <td>2.444455e+06</td>\n",
       "      <td>2.468248e+06</td>\n",
       "      <td>2.438958e+06</td>\n",
       "      <td>0.903226</td>\n",
       "      <td>2.387013e+06</td>\n",
       "      <td>2018.382134</td>\n",
       "      <td>1.060413</td>\n",
       "      <td>1.026543</td>\n",
       "      <td>66.768546</td>\n",
       "      <td>966.093435</td>\n",
       "    </tr>\n",
       "    <tr>\n",
       "      <th>std</th>\n",
       "      <td>2.644932</td>\n",
       "      <td>0.011014</td>\n",
       "      <td>0.013723</td>\n",
       "      <td>1.042039</td>\n",
       "      <td>1.058218</td>\n",
       "      <td>960.024837</td>\n",
       "      <td>292.261304</td>\n",
       "      <td>16771.657395</td>\n",
       "      <td>4.500950e+05</td>\n",
       "      <td>4.130430e+05</td>\n",
       "      <td>4.969825e+05</td>\n",
       "      <td>0.471121</td>\n",
       "      <td>5.407055e+05</td>\n",
       "      <td>0.913077</td>\n",
       "      <td>0.188365</td>\n",
       "      <td>0.121349</td>\n",
       "      <td>52.414782</td>\n",
       "      <td>428.476671</td>\n",
       "    </tr>\n",
       "    <tr>\n",
       "      <th>min</th>\n",
       "      <td>94061.000000</td>\n",
       "      <td>37.443840</td>\n",
       "      <td>-122.289077</td>\n",
       "      <td>0.000000</td>\n",
       "      <td>1.000000</td>\n",
       "      <td>456.000000</td>\n",
       "      <td>-1.000000</td>\n",
       "      <td>-1.000000</td>\n",
       "      <td>1.104439e+06</td>\n",
       "      <td>2.000000e+06</td>\n",
       "      <td>1.349000e+06</td>\n",
       "      <td>0.000000</td>\n",
       "      <td>1.117838e+06</td>\n",
       "      <td>2017.000000</td>\n",
       "      <td>0.552016</td>\n",
       "      <td>0.687813</td>\n",
       "      <td>8.000000</td>\n",
       "      <td>244.491575</td>\n",
       "    </tr>\n",
       "    <tr>\n",
       "      <th>25%</th>\n",
       "      <td>94062.000000</td>\n",
       "      <td>37.460114</td>\n",
       "      <td>-122.266822</td>\n",
       "      <td>3.000000</td>\n",
       "      <td>3.000000</td>\n",
       "      <td>2137.500000</td>\n",
       "      <td>1949.000000</td>\n",
       "      <td>7237.000000</td>\n",
       "      <td>2.104968e+06</td>\n",
       "      <td>2.131500e+06</td>\n",
       "      <td>2.075000e+06</td>\n",
       "      <td>1.000000</td>\n",
       "      <td>2.014566e+06</td>\n",
       "      <td>2018.000000</td>\n",
       "      <td>0.939309</td>\n",
       "      <td>0.946157</td>\n",
       "      <td>34.000000</td>\n",
       "      <td>796.172050</td>\n",
       "    </tr>\n",
       "    <tr>\n",
       "      <th>50%</th>\n",
       "      <td>94062.000000</td>\n",
       "      <td>37.469493</td>\n",
       "      <td>-122.256646</td>\n",
       "      <td>4.000000</td>\n",
       "      <td>3.000000</td>\n",
       "      <td>2650.000000</td>\n",
       "      <td>1963.000000</td>\n",
       "      <td>9975.000000</td>\n",
       "      <td>2.350346e+06</td>\n",
       "      <td>2.350000e+06</td>\n",
       "      <td>2.350000e+06</td>\n",
       "      <td>1.000000</td>\n",
       "      <td>2.293337e+06</td>\n",
       "      <td>2018.000000</td>\n",
       "      <td>1.043200</td>\n",
       "      <td>1.005460</td>\n",
       "      <td>46.000000</td>\n",
       "      <td>920.028360</td>\n",
       "    </tr>\n",
       "    <tr>\n",
       "      <th>75%</th>\n",
       "      <td>94062.000000</td>\n",
       "      <td>37.479284</td>\n",
       "      <td>-122.246007</td>\n",
       "      <td>4.000000</td>\n",
       "      <td>4.000000</td>\n",
       "      <td>3212.500000</td>\n",
       "      <td>1986.000000</td>\n",
       "      <td>15920.500000</td>\n",
       "      <td>2.695050e+06</td>\n",
       "      <td>2.722250e+06</td>\n",
       "      <td>2.739000e+06</td>\n",
       "      <td>1.000000</td>\n",
       "      <td>2.677202e+06</td>\n",
       "      <td>2019.000000</td>\n",
       "      <td>1.151162</td>\n",
       "      <td>1.089133</td>\n",
       "      <td>81.000000</td>\n",
       "      <td>1082.129935</td>\n",
       "    </tr>\n",
       "    <tr>\n",
       "      <th>max</th>\n",
       "      <td>94070.000000</td>\n",
       "      <td>37.486600</td>\n",
       "      <td>-122.229399</td>\n",
       "      <td>11.000000</td>\n",
       "      <td>8.000000</td>\n",
       "      <td>8487.000000</td>\n",
       "      <td>2019.000000</td>\n",
       "      <td>184258.000000</td>\n",
       "      <td>4.462470e+06</td>\n",
       "      <td>3.500000e+06</td>\n",
       "      <td>4.295000e+06</td>\n",
       "      <td>2.000000</td>\n",
       "      <td>4.514336e+06</td>\n",
       "      <td>2020.000000</td>\n",
       "      <td>2.078119</td>\n",
       "      <td>1.704225</td>\n",
       "      <td>266.000000</td>\n",
       "      <td>7675.438596</td>\n",
       "    </tr>\n",
       "  </tbody>\n",
       "</table>\n",
       "</div>"
      ],
      "text/plain": [
       "            zipcode    latitude   longitude        beds       baths  \\\n",
       "count    403.000000  403.000000  403.000000  396.000000  390.000000   \n",
       "mean   94062.645161   37.468937 -122.256436    3.848485    3.299359   \n",
       "std        2.644932    0.011014    0.013723    1.042039    1.058218   \n",
       "min    94061.000000   37.443840 -122.289077    0.000000    1.000000   \n",
       "25%    94062.000000   37.460114 -122.266822    3.000000    3.000000   \n",
       "50%    94062.000000   37.469493 -122.256646    4.000000    3.000000   \n",
       "75%    94062.000000   37.479284 -122.246007    4.000000    4.000000   \n",
       "max    94070.000000   37.486600 -122.229399   11.000000    8.000000   \n",
       "\n",
       "              area    yearBuilt        lotSize     zestimate  sellingPrice  \\\n",
       "count   396.000000   403.000000     403.000000  3.880000e+02  4.030000e+02   \n",
       "mean   2785.323232  1923.779156   14526.210918  2.444455e+06  2.468248e+06   \n",
       "std     960.024837   292.261304   16771.657395  4.500950e+05  4.130430e+05   \n",
       "min     456.000000    -1.000000      -1.000000  1.104439e+06  2.000000e+06   \n",
       "25%    2137.500000  1949.000000    7237.000000  2.104968e+06  2.131500e+06   \n",
       "50%    2650.000000  1963.000000    9975.000000  2.350346e+06  2.350000e+06   \n",
       "75%    3212.500000  1986.000000   15920.500000  2.695050e+06  2.722250e+06   \n",
       "max    8487.000000  2019.000000  184258.000000  4.462470e+06  3.500000e+06   \n",
       "\n",
       "       firstListingPrice  timesListed  zEstimate_at_listing     yearSold  \\\n",
       "count       3.370000e+02   403.000000          3.880000e+02   403.000000   \n",
       "mean        2.438958e+06     0.903226          2.387013e+06  2018.382134   \n",
       "std         4.969825e+05     0.471121          5.407055e+05     0.913077   \n",
       "min         1.349000e+06     0.000000          1.117838e+06  2017.000000   \n",
       "25%         2.075000e+06     1.000000          2.014566e+06  2018.000000   \n",
       "50%         2.350000e+06     1.000000          2.293337e+06  2018.000000   \n",
       "75%         2.739000e+06     1.000000          2.677202e+06  2019.000000   \n",
       "max         4.295000e+06     2.000000          4.514336e+06  2020.000000   \n",
       "\n",
       "       zEstimate ratio  listing ratio  days to sell  price per sf  \n",
       "count       388.000000     337.000000    337.000000    396.000000  \n",
       "mean          1.060413       1.026543     66.768546    966.093435  \n",
       "std           0.188365       0.121349     52.414782    428.476671  \n",
       "min           0.552016       0.687813      8.000000    244.491575  \n",
       "25%           0.939309       0.946157     34.000000    796.172050  \n",
       "50%           1.043200       1.005460     46.000000    920.028360  \n",
       "75%           1.151162       1.089133     81.000000   1082.129935  \n",
       "max           2.078119       1.704225    266.000000   7675.438596  "
      ]
     },
     "execution_count": 7,
     "metadata": {},
     "output_type": "execute_result"
    }
   ],
   "source": [
    "df.describe()"
   ]
  },
  {
   "cell_type": "markdown",
   "metadata": {},
   "source": [
    "Pivot the data by *sellerAgent* and sort by most sales (descending) to identify top candidates. We're particularly interested in the *zEstimate ratio* which is the ratio of the selling price to the *zEstimate* which was published just prior to the house being listed (there's evidence in the data that the *zEstimate* is impacted by a the act of listing a house)."
   ]
  },
  {
   "cell_type": "code",
   "execution_count": 8,
   "metadata": {},
   "outputs": [
    {
     "data": {
      "text/html": [
       "<div>\n",
       "<style scoped>\n",
       "    .dataframe tbody tr th:only-of-type {\n",
       "        vertical-align: middle;\n",
       "    }\n",
       "\n",
       "    .dataframe tbody tr th {\n",
       "        vertical-align: top;\n",
       "    }\n",
       "\n",
       "    .dataframe thead th {\n",
       "        text-align: right;\n",
       "    }\n",
       "</style>\n",
       "<table border=\"1\" class=\"dataframe\">\n",
       "  <thead>\n",
       "    <tr style=\"text-align: right;\">\n",
       "      <th></th>\n",
       "      <th>Most recent sale</th>\n",
       "      <th>days to sell</th>\n",
       "      <th>listing ratio</th>\n",
       "      <th>price per sf</th>\n",
       "      <th>sellingPrice</th>\n",
       "      <th>zEstimate ratio</th>\n",
       "      <th>sales</th>\n",
       "    </tr>\n",
       "    <tr>\n",
       "      <th>sellerAgent</th>\n",
       "      <th></th>\n",
       "      <th></th>\n",
       "      <th></th>\n",
       "      <th></th>\n",
       "      <th></th>\n",
       "      <th></th>\n",
       "      <th></th>\n",
       "    </tr>\n",
       "  </thead>\n",
       "  <tbody>\n",
       "    <tr>\n",
       "      <th>John Shroyer</th>\n",
       "      <td>2020-05-18</td>\n",
       "      <td>86.736842</td>\n",
       "      <td>1.013922</td>\n",
       "      <td>928.084474</td>\n",
       "      <td>2.485920e+06</td>\n",
       "      <td>1.021527</td>\n",
       "      <td>22</td>\n",
       "    </tr>\n",
       "    <tr>\n",
       "      <th>Vicky Costantini</th>\n",
       "      <td>2020-03-31</td>\n",
       "      <td>81.125000</td>\n",
       "      <td>0.987836</td>\n",
       "      <td>928.717427</td>\n",
       "      <td>2.338542e+06</td>\n",
       "      <td>0.993955</td>\n",
       "      <td>10</td>\n",
       "    </tr>\n",
       "    <tr>\n",
       "      <th>Alex Lehr</th>\n",
       "      <td>2019-11-04</td>\n",
       "      <td>53.714286</td>\n",
       "      <td>1.021900</td>\n",
       "      <td>829.662288</td>\n",
       "      <td>2.386000e+06</td>\n",
       "      <td>1.032605</td>\n",
       "      <td>8</td>\n",
       "    </tr>\n",
       "    <tr>\n",
       "      <th>DeLeon Team</th>\n",
       "      <td>2019-11-26</td>\n",
       "      <td>53.571429</td>\n",
       "      <td>1.043718</td>\n",
       "      <td>1028.968548</td>\n",
       "      <td>2.751429e+06</td>\n",
       "      <td>1.017317</td>\n",
       "      <td>7</td>\n",
       "    </tr>\n",
       "    <tr>\n",
       "      <th>David Young</th>\n",
       "      <td>2019-09-10</td>\n",
       "      <td>66.714286</td>\n",
       "      <td>1.091236</td>\n",
       "      <td>978.235441</td>\n",
       "      <td>2.217857e+06</td>\n",
       "      <td>1.093899</td>\n",
       "      <td>7</td>\n",
       "    </tr>\n",
       "    <tr>\n",
       "      <th>Pam Tyson</th>\n",
       "      <td>2020-02-21</td>\n",
       "      <td>135.666667</td>\n",
       "      <td>0.944210</td>\n",
       "      <td>869.944502</td>\n",
       "      <td>2.266667e+06</td>\n",
       "      <td>1.107467</td>\n",
       "      <td>6</td>\n",
       "    </tr>\n",
       "    <tr>\n",
       "      <th>Sam Anagnostou</th>\n",
       "      <td>2018-09-13</td>\n",
       "      <td>69.800000</td>\n",
       "      <td>0.959039</td>\n",
       "      <td>841.485344</td>\n",
       "      <td>2.678333e+06</td>\n",
       "      <td>0.969630</td>\n",
       "      <td>6</td>\n",
       "    </tr>\n",
       "    <tr>\n",
       "      <th>Team Bedbury</th>\n",
       "      <td>2019-07-30</td>\n",
       "      <td>40.000000</td>\n",
       "      <td>1.024596</td>\n",
       "      <td>770.958209</td>\n",
       "      <td>2.454000e+06</td>\n",
       "      <td>0.966357</td>\n",
       "      <td>5</td>\n",
       "    </tr>\n",
       "    <tr>\n",
       "      <th>Joyce Romeo</th>\n",
       "      <td>2018-06-11</td>\n",
       "      <td>32.250000</td>\n",
       "      <td>1.058784</td>\n",
       "      <td>1026.338696</td>\n",
       "      <td>2.647000e+06</td>\n",
       "      <td>1.061448</td>\n",
       "      <td>5</td>\n",
       "    </tr>\n",
       "    <tr>\n",
       "      <th>Laura Bertolacci</th>\n",
       "      <td>2019-11-27</td>\n",
       "      <td>48.500000</td>\n",
       "      <td>0.982442</td>\n",
       "      <td>941.181908</td>\n",
       "      <td>2.609500e+06</td>\n",
       "      <td>1.321708</td>\n",
       "      <td>4</td>\n",
       "    </tr>\n",
       "    <tr>\n",
       "      <th>Danny Burgess</th>\n",
       "      <td>2019-10-25</td>\n",
       "      <td>53.000000</td>\n",
       "      <td>1.027919</td>\n",
       "      <td>1123.692490</td>\n",
       "      <td>2.691667e+06</td>\n",
       "      <td>1.120771</td>\n",
       "      <td>3</td>\n",
       "    </tr>\n",
       "    <tr>\n",
       "      <th>Kathy Zmay</th>\n",
       "      <td>2019-04-08</td>\n",
       "      <td>119.000000</td>\n",
       "      <td>0.965334</td>\n",
       "      <td>909.641911</td>\n",
       "      <td>2.283333e+06</td>\n",
       "      <td>1.038646</td>\n",
       "      <td>3</td>\n",
       "    </tr>\n",
       "    <tr>\n",
       "      <th>Lena Griffin</th>\n",
       "      <td>2019-06-07</td>\n",
       "      <td>165.666667</td>\n",
       "      <td>1.442120</td>\n",
       "      <td>1121.210738</td>\n",
       "      <td>2.628333e+06</td>\n",
       "      <td>1.412405</td>\n",
       "      <td>3</td>\n",
       "    </tr>\n",
       "    <tr>\n",
       "      <th>Chuck Gillooley</th>\n",
       "      <td>2019-06-13</td>\n",
       "      <td>44.333333</td>\n",
       "      <td>0.997322</td>\n",
       "      <td>924.605625</td>\n",
       "      <td>2.625000e+06</td>\n",
       "      <td>1.008755</td>\n",
       "      <td>3</td>\n",
       "    </tr>\n",
       "    <tr>\n",
       "      <th>Debbie Sharp</th>\n",
       "      <td>2019-11-01</td>\n",
       "      <td>78.333333</td>\n",
       "      <td>1.033677</td>\n",
       "      <td>899.880723</td>\n",
       "      <td>2.540000e+06</td>\n",
       "      <td>1.065659</td>\n",
       "      <td>3</td>\n",
       "    </tr>\n",
       "    <tr>\n",
       "      <th>Lucy Goldenshteyn</th>\n",
       "      <td>2019-08-28</td>\n",
       "      <td>106.000000</td>\n",
       "      <td>0.910336</td>\n",
       "      <td>725.501508</td>\n",
       "      <td>2.226000e+06</td>\n",
       "      <td>0.866085</td>\n",
       "      <td>3</td>\n",
       "    </tr>\n",
       "    <tr>\n",
       "      <th>DiPali Shah</th>\n",
       "      <td>2019-06-04</td>\n",
       "      <td>77.000000</td>\n",
       "      <td>1.044373</td>\n",
       "      <td>951.489143</td>\n",
       "      <td>2.226667e+06</td>\n",
       "      <td>1.070487</td>\n",
       "      <td>3</td>\n",
       "    </tr>\n",
       "    <tr>\n",
       "      <th>Bryan Jacobs</th>\n",
       "      <td>2019-11-07</td>\n",
       "      <td>97.500000</td>\n",
       "      <td>0.922307</td>\n",
       "      <td>841.948277</td>\n",
       "      <td>2.185000e+06</td>\n",
       "      <td>0.969824</td>\n",
       "      <td>3</td>\n",
       "    </tr>\n",
       "    <tr>\n",
       "      <th>Alex Wang</th>\n",
       "      <td>2020-04-24</td>\n",
       "      <td>29.333333</td>\n",
       "      <td>1.057788</td>\n",
       "      <td>969.691017</td>\n",
       "      <td>2.959267e+06</td>\n",
       "      <td>1.089425</td>\n",
       "      <td>3</td>\n",
       "    </tr>\n",
       "    <tr>\n",
       "      <th>Michelle Glaubert</th>\n",
       "      <td>2018-03-13</td>\n",
       "      <td>29.000000</td>\n",
       "      <td>1.106551</td>\n",
       "      <td>828.395346</td>\n",
       "      <td>2.417500e+06</td>\n",
       "      <td>1.018963</td>\n",
       "      <td>2</td>\n",
       "    </tr>\n",
       "  </tbody>\n",
       "</table>\n",
       "</div>"
      ],
      "text/plain": [
       "                  Most recent sale  days to sell  listing ratio  price per sf  \\\n",
       "sellerAgent                                                                     \n",
       "John Shroyer            2020-05-18     86.736842       1.013922    928.084474   \n",
       "Vicky Costantini        2020-03-31     81.125000       0.987836    928.717427   \n",
       "Alex Lehr               2019-11-04     53.714286       1.021900    829.662288   \n",
       "DeLeon Team             2019-11-26     53.571429       1.043718   1028.968548   \n",
       "David Young             2019-09-10     66.714286       1.091236    978.235441   \n",
       "Pam Tyson               2020-02-21    135.666667       0.944210    869.944502   \n",
       "Sam Anagnostou          2018-09-13     69.800000       0.959039    841.485344   \n",
       "Team Bedbury            2019-07-30     40.000000       1.024596    770.958209   \n",
       "Joyce Romeo             2018-06-11     32.250000       1.058784   1026.338696   \n",
       "Laura Bertolacci        2019-11-27     48.500000       0.982442    941.181908   \n",
       "Danny Burgess           2019-10-25     53.000000       1.027919   1123.692490   \n",
       "Kathy Zmay              2019-04-08    119.000000       0.965334    909.641911   \n",
       "Lena Griffin            2019-06-07    165.666667       1.442120   1121.210738   \n",
       "Chuck Gillooley         2019-06-13     44.333333       0.997322    924.605625   \n",
       "Debbie Sharp            2019-11-01     78.333333       1.033677    899.880723   \n",
       "Lucy Goldenshteyn       2019-08-28    106.000000       0.910336    725.501508   \n",
       "DiPali Shah             2019-06-04     77.000000       1.044373    951.489143   \n",
       "Bryan Jacobs            2019-11-07     97.500000       0.922307    841.948277   \n",
       "Alex Wang               2020-04-24     29.333333       1.057788    969.691017   \n",
       "Michelle Glaubert       2018-03-13     29.000000       1.106551    828.395346   \n",
       "\n",
       "                   sellingPrice  zEstimate ratio  sales  \n",
       "sellerAgent                                              \n",
       "John Shroyer       2.485920e+06         1.021527     22  \n",
       "Vicky Costantini   2.338542e+06         0.993955     10  \n",
       "Alex Lehr          2.386000e+06         1.032605      8  \n",
       "DeLeon Team        2.751429e+06         1.017317      7  \n",
       "David Young        2.217857e+06         1.093899      7  \n",
       "Pam Tyson          2.266667e+06         1.107467      6  \n",
       "Sam Anagnostou     2.678333e+06         0.969630      6  \n",
       "Team Bedbury       2.454000e+06         0.966357      5  \n",
       "Joyce Romeo        2.647000e+06         1.061448      5  \n",
       "Laura Bertolacci   2.609500e+06         1.321708      4  \n",
       "Danny Burgess      2.691667e+06         1.120771      3  \n",
       "Kathy Zmay         2.283333e+06         1.038646      3  \n",
       "Lena Griffin       2.628333e+06         1.412405      3  \n",
       "Chuck Gillooley    2.625000e+06         1.008755      3  \n",
       "Debbie Sharp       2.540000e+06         1.065659      3  \n",
       "Lucy Goldenshteyn  2.226000e+06         0.866085      3  \n",
       "DiPali Shah        2.226667e+06         1.070487      3  \n",
       "Bryan Jacobs       2.185000e+06         0.969824      3  \n",
       "Alex Wang          2.959267e+06         1.089425      3  \n",
       "Michelle Glaubert  2.417500e+06         1.018963      2  "
      ]
     },
     "execution_count": 8,
     "metadata": {},
     "output_type": "execute_result"
    }
   ],
   "source": [
    "df.pivot_table(\n",
    "    index='sellerAgent',\n",
    "    aggfunc={\n",
    "       'zipcode': 'count',\n",
    "       'zEstimate ratio': np.mean,\n",
    "       'listing ratio': np.mean,\n",
    "       'days to sell': np.mean,\n",
    "       'sellingPrice': np.mean,\n",
    "       'dateSold': max,\n",
    "       'price per sf': np.mean\n",
    "    }).rename(columns={'zipcode': 'sales', 'dateSold': 'Most recent sale'})\\\n",
    "    .sort_values(by='sales',ascending=False).head(20)"
   ]
  },
  {
   "cell_type": "markdown",
   "metadata": {},
   "source": [
    "Two agents stand out in the list above, *Laura Bertolacci* and *Lena Griffin*. They managed to get 32% and 41% uplifts respectively over Zillow's *zEstimate* that existed just prior to listing. Laura has 4 sales in our filter criteria while Lena has 3. However Laura sold her houses in an average of 48 days whereas Lena took 165 days.\n",
    "\n",
    "It's interesting that I recognize two of the names on this list - Sam Anagnostou (friend of a friend) and Michelle Glaubert who was the original selling agent on the house we're now trying to sell. Sam has 6 transactions but he's only getting 97% of the zEstimate. Michelle has 2 and is getting 102% of the zEstimate (but with a 29 day sales cycle which is very quick). Michelle unfortunately hasn't sold a house in this range since March 2018."
   ]
  },
  {
   "cell_type": "markdown",
   "metadata": {},
   "source": [
    "Most realtors in our list only had one sale that met our filter criteria. This is apparent from the distribution of sales/realtor:"
   ]
  },
  {
   "cell_type": "code",
   "execution_count": 9,
   "metadata": {},
   "outputs": [
    {
     "data": {
      "image/png": "[encoded data removed]",
      "text/plain": [
       "<Figure size 432x288 with 1 Axes>"
      ]
     },
     "metadata": {
      "needs_background": "light"
     },
     "output_type": "display_data"
    }
   ],
   "source": [
    "sns.distplot(df.pivot_table(index='sellerAgent',aggfunc={'zipcode': 'count'}))\n",
    "plt.ylabel('Realtors')\n",
    "plt.xlabel('Sales');"
   ]
  },
  {
   "cell_type": "markdown",
   "metadata": {},
   "source": [
    "Let's look at Laura and Lena's transactions in detail:"
   ]
  },
  {
   "cell_type": "code",
   "execution_count": 10,
   "metadata": {},
   "outputs": [
    {
     "data": {
      "text/html": [
       "<div>\n",
       "<style scoped>\n",
       "    .dataframe tbody tr th:only-of-type {\n",
       "        vertical-align: middle;\n",
       "    }\n",
       "\n",
       "    .dataframe tbody tr th {\n",
       "        vertical-align: top;\n",
       "    }\n",
       "\n",
       "    .dataframe thead th {\n",
       "        text-align: right;\n",
       "    }\n",
       "</style>\n",
       "<table border=\"1\" class=\"dataframe\">\n",
       "  <thead>\n",
       "    <tr style=\"text-align: right;\">\n",
       "      <th></th>\n",
       "      <th>address</th>\n",
       "      <th>zipcode</th>\n",
       "      <th>latitude</th>\n",
       "      <th>longitude</th>\n",
       "      <th>beds</th>\n",
       "      <th>baths</th>\n",
       "      <th>area</th>\n",
       "      <th>dateSold</th>\n",
       "      <th>yearBuilt</th>\n",
       "      <th>lotSize</th>\n",
       "      <th>zestimate</th>\n",
       "      <th>sellingPrice</th>\n",
       "      <th>sellerAgent</th>\n",
       "      <th>sellerAgentUrl</th>\n",
       "      <th>listedAt</th>\n",
       "      <th>firstListingPrice</th>\n",
       "      <th>timesListed</th>\n",
       "      <th>zEstimate_at_listing</th>\n",
       "      <th>zEstimate_date</th>\n",
       "      <th>url</th>\n",
       "      <th>yearSold</th>\n",
       "      <th>zEstimate ratio</th>\n",
       "      <th>listing ratio</th>\n",
       "      <th>days to sell</th>\n",
       "      <th>price per sf</th>\n",
       "    </tr>\n",
       "    <tr>\n",
       "      <th>zpid</th>\n",
       "      <th></th>\n",
       "      <th></th>\n",
       "      <th></th>\n",
       "      <th></th>\n",
       "      <th></th>\n",
       "      <th></th>\n",
       "      <th></th>\n",
       "      <th></th>\n",
       "      <th></th>\n",
       "      <th></th>\n",
       "      <th></th>\n",
       "      <th></th>\n",
       "      <th></th>\n",
       "      <th></th>\n",
       "      <th></th>\n",
       "      <th></th>\n",
       "      <th></th>\n",
       "      <th></th>\n",
       "      <th></th>\n",
       "      <th></th>\n",
       "      <th></th>\n",
       "      <th></th>\n",
       "      <th></th>\n",
       "      <th></th>\n",
       "      <th></th>\n",
       "    </tr>\n",
       "  </thead>\n",
       "  <tbody>\n",
       "    <tr>\n",
       "      <th>15591898</th>\n",
       "      <td>2641 Carolina Ave, Redwood City, CA 94061</td>\n",
       "      <td>94061</td>\n",
       "      <td>37.454586</td>\n",
       "      <td>-122.233151</td>\n",
       "      <td>4.0</td>\n",
       "      <td>4.0</td>\n",
       "      <td>2020.0</td>\n",
       "      <td>2019-11-27</td>\n",
       "      <td>1951</td>\n",
       "      <td>6041.0</td>\n",
       "      <td>2248270.0</td>\n",
       "      <td>2328000.0</td>\n",
       "      <td>Laura Bertolacci</td>\n",
       "      <td>https://www.zillow.com/profile/Laura-Bertolacci/</td>\n",
       "      <td>2019-10-25</td>\n",
       "      <td>2328000.0</td>\n",
       "      <td>1</td>\n",
       "      <td>1307906.0</td>\n",
       "      <td>2019-09-30</td>\n",
       "      <td>https://www.zillow.com/homedetails/2641-Caroli...</td>\n",
       "      <td>2019</td>\n",
       "      <td>1.779944</td>\n",
       "      <td>1.000000</td>\n",
       "      <td>33.0</td>\n",
       "      <td>1152.475248</td>\n",
       "    </tr>\n",
       "    <tr>\n",
       "      <th>15589710</th>\n",
       "      <td>636 Lakemead Way, Emerald Hills, CA 94062</td>\n",
       "      <td>94062</td>\n",
       "      <td>37.462312</td>\n",
       "      <td>-122.268629</td>\n",
       "      <td>4.0</td>\n",
       "      <td>2.5</td>\n",
       "      <td>3388.0</td>\n",
       "      <td>2019-10-25</td>\n",
       "      <td>1988</td>\n",
       "      <td>17450.0</td>\n",
       "      <td>3003279.0</td>\n",
       "      <td>3110000.0</td>\n",
       "      <td>Laura Bertolacci</td>\n",
       "      <td>https://www.zillow.com/profile/Laura-Bertolacci/</td>\n",
       "      <td>2019-08-30</td>\n",
       "      <td>3200000.0</td>\n",
       "      <td>1</td>\n",
       "      <td>2665524.0</td>\n",
       "      <td>2019-07-31</td>\n",
       "      <td>https://www.zillow.com/homedetails/636-Lakemea...</td>\n",
       "      <td>2019</td>\n",
       "      <td>1.166750</td>\n",
       "      <td>0.971875</td>\n",
       "      <td>56.0</td>\n",
       "      <td>917.945691</td>\n",
       "    </tr>\n",
       "    <tr>\n",
       "      <th>15571679</th>\n",
       "      <td>817 Shepard Way, Redwood City, CA 94062</td>\n",
       "      <td>94062</td>\n",
       "      <td>37.461465</td>\n",
       "      <td>-122.258837</td>\n",
       "      <td>4.0</td>\n",
       "      <td>3.0</td>\n",
       "      <td>1960.0</td>\n",
       "      <td>2019-06-14</td>\n",
       "      <td>1969</td>\n",
       "      <td>8568.0</td>\n",
       "      <td>2299210.0</td>\n",
       "      <td>2350000.0</td>\n",
       "      <td>Laura Bertolacci</td>\n",
       "      <td>https://www.zillow.com/profile/Laura-Bertolacci/</td>\n",
       "      <td>2019-05-10</td>\n",
       "      <td>2268000.0</td>\n",
       "      <td>1</td>\n",
       "      <td>2036211.0</td>\n",
       "      <td>2019-04-30</td>\n",
       "      <td>https://www.zillow.com/homedetails/817-Shepard...</td>\n",
       "      <td>2019</td>\n",
       "      <td>1.154104</td>\n",
       "      <td>1.036155</td>\n",
       "      <td>35.0</td>\n",
       "      <td>1198.979592</td>\n",
       "    </tr>\n",
       "    <tr>\n",
       "      <th>111436032</th>\n",
       "      <td>1122 Madison Ave, Redwood City, CA 94061</td>\n",
       "      <td>94061</td>\n",
       "      <td>37.474695</td>\n",
       "      <td>-122.237879</td>\n",
       "      <td>8.0</td>\n",
       "      <td>6.0</td>\n",
       "      <td>5350.0</td>\n",
       "      <td>2019-04-08</td>\n",
       "      <td>1990</td>\n",
       "      <td>9748.0</td>\n",
       "      <td>2608237.0</td>\n",
       "      <td>2650000.0</td>\n",
       "      <td>Laura Bertolacci</td>\n",
       "      <td>https://www.zillow.com/profile/Laura-Bertolacci/</td>\n",
       "      <td>2019-01-28</td>\n",
       "      <td>2875000.0</td>\n",
       "      <td>1</td>\n",
       "      <td>2234341.0</td>\n",
       "      <td>2018-12-31</td>\n",
       "      <td>https://www.zillow.com/homedetails/1122-Madiso...</td>\n",
       "      <td>2019</td>\n",
       "      <td>1.186032</td>\n",
       "      <td>0.921739</td>\n",
       "      <td>70.0</td>\n",
       "      <td>495.327103</td>\n",
       "    </tr>\n",
       "  </tbody>\n",
       "</table>\n",
       "</div>"
      ],
      "text/plain": [
       "                                             address  zipcode   latitude  \\\n",
       "zpid                                                                       \n",
       "15591898   2641 Carolina Ave, Redwood City, CA 94061    94061  37.454586   \n",
       "15589710   636 Lakemead Way, Emerald Hills, CA 94062    94062  37.462312   \n",
       "15571679     817 Shepard Way, Redwood City, CA 94062    94062  37.461465   \n",
       "111436032   1122 Madison Ave, Redwood City, CA 94061    94061  37.474695   \n",
       "\n",
       "            longitude  beds  baths    area    dateSold  yearBuilt  lotSize  \\\n",
       "zpid                                                                         \n",
       "15591898  -122.233151   4.0    4.0  2020.0  2019-11-27       1951   6041.0   \n",
       "15589710  -122.268629   4.0    2.5  3388.0  2019-10-25       1988  17450.0   \n",
       "15571679  -122.258837   4.0    3.0  1960.0  2019-06-14       1969   8568.0   \n",
       "111436032 -122.237879   8.0    6.0  5350.0  2019-04-08       1990   9748.0   \n",
       "\n",
       "           zestimate  sellingPrice       sellerAgent  \\\n",
       "zpid                                                   \n",
       "15591898   2248270.0     2328000.0  Laura Bertolacci   \n",
       "15589710   3003279.0     3110000.0  Laura Bertolacci   \n",
       "15571679   2299210.0     2350000.0  Laura Bertolacci   \n",
       "111436032  2608237.0     2650000.0  Laura Bertolacci   \n",
       "\n",
       "                                             sellerAgentUrl    listedAt  \\\n",
       "zpid                                                                      \n",
       "15591898   https://www.zillow.com/profile/Laura-Bertolacci/  2019-10-25   \n",
       "15589710   https://www.zillow.com/profile/Laura-Bertolacci/  2019-08-30   \n",
       "15571679   https://www.zillow.com/profile/Laura-Bertolacci/  2019-05-10   \n",
       "111436032  https://www.zillow.com/profile/Laura-Bertolacci/  2019-01-28   \n",
       "\n",
       "           firstListingPrice  timesListed  zEstimate_at_listing  \\\n",
       "zpid                                                              \n",
       "15591898           2328000.0            1             1307906.0   \n",
       "15589710           3200000.0            1             2665524.0   \n",
       "15571679           2268000.0            1             2036211.0   \n",
       "111436032          2875000.0            1             2234341.0   \n",
       "\n",
       "          zEstimate_date                                                url  \\\n",
       "zpid                                                                          \n",
       "15591898      2019-09-30  https://www.zillow.com/homedetails/2641-Caroli...   \n",
       "15589710      2019-07-31  https://www.zillow.com/homedetails/636-Lakemea...   \n",
       "15571679      2019-04-30  https://www.zillow.com/homedetails/817-Shepard...   \n",
       "111436032     2018-12-31  https://www.zillow.com/homedetails/1122-Madiso...   \n",
       "\n",
       "           yearSold  zEstimate ratio  listing ratio  days to sell  \\\n",
       "zpid                                                                \n",
       "15591898       2019         1.779944       1.000000          33.0   \n",
       "15589710       2019         1.166750       0.971875          56.0   \n",
       "15571679       2019         1.154104       1.036155          35.0   \n",
       "111436032      2019         1.186032       0.921739          70.0   \n",
       "\n",
       "           price per sf  \n",
       "zpid                     \n",
       "15591898    1152.475248  \n",
       "15589710     917.945691  \n",
       "15571679    1198.979592  \n",
       "111436032    495.327103  "
      ]
     },
     "execution_count": 10,
     "metadata": {},
     "output_type": "execute_result"
    }
   ],
   "source": [
    "df[df.sellerAgent=='Laura Bertolacci']"
   ]
  },
  {
   "cell_type": "code",
   "execution_count": 11,
   "metadata": {},
   "outputs": [
    {
     "data": {
      "text/html": [
       "<div>\n",
       "<style scoped>\n",
       "    .dataframe tbody tr th:only-of-type {\n",
       "        vertical-align: middle;\n",
       "    }\n",
       "\n",
       "    .dataframe tbody tr th {\n",
       "        vertical-align: top;\n",
       "    }\n",
       "\n",
       "    .dataframe thead th {\n",
       "        text-align: right;\n",
       "    }\n",
       "</style>\n",
       "<table border=\"1\" class=\"dataframe\">\n",
       "  <thead>\n",
       "    <tr style=\"text-align: right;\">\n",
       "      <th></th>\n",
       "      <th>address</th>\n",
       "      <th>zipcode</th>\n",
       "      <th>latitude</th>\n",
       "      <th>longitude</th>\n",
       "      <th>beds</th>\n",
       "      <th>baths</th>\n",
       "      <th>area</th>\n",
       "      <th>dateSold</th>\n",
       "      <th>yearBuilt</th>\n",
       "      <th>lotSize</th>\n",
       "      <th>zestimate</th>\n",
       "      <th>sellingPrice</th>\n",
       "      <th>sellerAgent</th>\n",
       "      <th>sellerAgentUrl</th>\n",
       "      <th>listedAt</th>\n",
       "      <th>firstListingPrice</th>\n",
       "      <th>timesListed</th>\n",
       "      <th>zEstimate_at_listing</th>\n",
       "      <th>zEstimate_date</th>\n",
       "      <th>url</th>\n",
       "      <th>yearSold</th>\n",
       "      <th>zEstimate ratio</th>\n",
       "      <th>listing ratio</th>\n",
       "      <th>days to sell</th>\n",
       "      <th>price per sf</th>\n",
       "    </tr>\n",
       "    <tr>\n",
       "      <th>zpid</th>\n",
       "      <th></th>\n",
       "      <th></th>\n",
       "      <th></th>\n",
       "      <th></th>\n",
       "      <th></th>\n",
       "      <th></th>\n",
       "      <th></th>\n",
       "      <th></th>\n",
       "      <th></th>\n",
       "      <th></th>\n",
       "      <th></th>\n",
       "      <th></th>\n",
       "      <th></th>\n",
       "      <th></th>\n",
       "      <th></th>\n",
       "      <th></th>\n",
       "      <th></th>\n",
       "      <th></th>\n",
       "      <th></th>\n",
       "      <th></th>\n",
       "      <th></th>\n",
       "      <th></th>\n",
       "      <th></th>\n",
       "      <th></th>\n",
       "      <th></th>\n",
       "    </tr>\n",
       "  </thead>\n",
       "  <tbody>\n",
       "    <tr>\n",
       "      <th>15572403</th>\n",
       "      <td>967 Stony Hill Rd, Redwood City, CA 94061</td>\n",
       "      <td>94061</td>\n",
       "      <td>37.457506</td>\n",
       "      <td>-122.252125</td>\n",
       "      <td>4.0</td>\n",
       "      <td>4.0</td>\n",
       "      <td>2481.0</td>\n",
       "      <td>2019-06-07</td>\n",
       "      <td>1957</td>\n",
       "      <td>7701.0</td>\n",
       "      <td>2790772.0</td>\n",
       "      <td>2850000.0</td>\n",
       "      <td>Lena Griffin</td>\n",
       "      <td>https://www.zillow.com/profile/LenaGriffin/</td>\n",
       "      <td>2019-04-19</td>\n",
       "      <td>2795000.0</td>\n",
       "      <td>1</td>\n",
       "      <td>2083781.0</td>\n",
       "      <td>2019-03-31</td>\n",
       "      <td>https://www.zillow.com/homedetails/967-Stony-H...</td>\n",
       "      <td>2019</td>\n",
       "      <td>1.367706</td>\n",
       "      <td>1.019678</td>\n",
       "      <td>49.0</td>\n",
       "      <td>1148.730351</td>\n",
       "    </tr>\n",
       "    <tr>\n",
       "      <th>15573311</th>\n",
       "      <td>356 Topaz St, Redwood City, CA 94062</td>\n",
       "      <td>94062</td>\n",
       "      <td>37.472862</td>\n",
       "      <td>-122.248638</td>\n",
       "      <td>4.0</td>\n",
       "      <td>4.0</td>\n",
       "      <td>2024.0</td>\n",
       "      <td>2017-11-15</td>\n",
       "      <td>1951</td>\n",
       "      <td>7875.0</td>\n",
       "      <td>2459196.0</td>\n",
       "      <td>2410000.0</td>\n",
       "      <td>Lena Griffin</td>\n",
       "      <td>https://www.zillow.com/profile/LenaGriffin/</td>\n",
       "      <td>2017-05-11</td>\n",
       "      <td>1495000.0</td>\n",
       "      <td>2</td>\n",
       "      <td>1628781.0</td>\n",
       "      <td>2017-04-30</td>\n",
       "      <td>https://www.zillow.com/homedetails/356-Topaz-S...</td>\n",
       "      <td>2017</td>\n",
       "      <td>1.479634</td>\n",
       "      <td>1.612040</td>\n",
       "      <td>188.0</td>\n",
       "      <td>1190.711462</td>\n",
       "    </tr>\n",
       "    <tr>\n",
       "      <th>15573560</th>\n",
       "      <td>588 Quartz St, Redwood City, CA 94062</td>\n",
       "      <td>94062</td>\n",
       "      <td>37.471868</td>\n",
       "      <td>-122.243155</td>\n",
       "      <td>4.0</td>\n",
       "      <td>4.0</td>\n",
       "      <td>2563.0</td>\n",
       "      <td>2017-08-25</td>\n",
       "      <td>1942</td>\n",
       "      <td>8041.0</td>\n",
       "      <td>2779382.0</td>\n",
       "      <td>2625000.0</td>\n",
       "      <td>Lena Griffin</td>\n",
       "      <td>https://www.zillow.com/profile/LenaGriffin/</td>\n",
       "      <td>2016-12-08</td>\n",
       "      <td>1549000.0</td>\n",
       "      <td>2</td>\n",
       "      <td>1888660.0</td>\n",
       "      <td>2016-11-30</td>\n",
       "      <td>https://www.zillow.com/homedetails/588-Quartz-...</td>\n",
       "      <td>2017</td>\n",
       "      <td>1.389874</td>\n",
       "      <td>1.694642</td>\n",
       "      <td>260.0</td>\n",
       "      <td>1024.190402</td>\n",
       "    </tr>\n",
       "  </tbody>\n",
       "</table>\n",
       "</div>"
      ],
      "text/plain": [
       "                                            address  zipcode   latitude  \\\n",
       "zpid                                                                      \n",
       "15572403  967 Stony Hill Rd, Redwood City, CA 94061    94061  37.457506   \n",
       "15573311       356 Topaz St, Redwood City, CA 94062    94062  37.472862   \n",
       "15573560      588 Quartz St, Redwood City, CA 94062    94062  37.471868   \n",
       "\n",
       "           longitude  beds  baths    area    dateSold  yearBuilt  lotSize  \\\n",
       "zpid                                                                        \n",
       "15572403 -122.252125   4.0    4.0  2481.0  2019-06-07       1957   7701.0   \n",
       "15573311 -122.248638   4.0    4.0  2024.0  2017-11-15       1951   7875.0   \n",
       "15573560 -122.243155   4.0    4.0  2563.0  2017-08-25       1942   8041.0   \n",
       "\n",
       "          zestimate  sellingPrice   sellerAgent  \\\n",
       "zpid                                              \n",
       "15572403  2790772.0     2850000.0  Lena Griffin   \n",
       "15573311  2459196.0     2410000.0  Lena Griffin   \n",
       "15573560  2779382.0     2625000.0  Lena Griffin   \n",
       "\n",
       "                                       sellerAgentUrl    listedAt  \\\n",
       "zpid                                                                \n",
       "15572403  https://www.zillow.com/profile/LenaGriffin/  2019-04-19   \n",
       "15573311  https://www.zillow.com/profile/LenaGriffin/  2017-05-11   \n",
       "15573560  https://www.zillow.com/profile/LenaGriffin/  2016-12-08   \n",
       "\n",
       "          firstListingPrice  timesListed  zEstimate_at_listing zEstimate_date  \\\n",
       "zpid                                                                            \n",
       "15572403          2795000.0            1             2083781.0     2019-03-31   \n",
       "15573311          1495000.0            2             1628781.0     2017-04-30   \n",
       "15573560          1549000.0            2             1888660.0     2016-11-30   \n",
       "\n",
       "                                                        url  yearSold  \\\n",
       "zpid                                                                    \n",
       "15572403  https://www.zillow.com/homedetails/967-Stony-H...      2019   \n",
       "15573311  https://www.zillow.com/homedetails/356-Topaz-S...      2017   \n",
       "15573560  https://www.zillow.com/homedetails/588-Quartz-...      2017   \n",
       "\n",
       "          zEstimate ratio  listing ratio  days to sell  price per sf  \n",
       "zpid                                                                  \n",
       "15572403         1.367706       1.019678          49.0   1148.730351  \n",
       "15573311         1.479634       1.612040         188.0   1190.711462  \n",
       "15573560         1.389874       1.694642         260.0   1024.190402  "
      ]
     },
     "execution_count": 11,
     "metadata": {},
     "output_type": "execute_result"
    }
   ],
   "source": [
    "df[df.sellerAgent=='Lena Griffin']"
   ]
  },
  {
   "cell_type": "code",
   "execution_count": 12,
   "metadata": {},
   "outputs": [
    {
     "data": {
      "text/html": [
       "<div style=\"width:100%;\"><div style=\"position:relative;width:100%;height:0;padding-bottom:60%;\"><iframe src=\"about:blank\" style=\"position:absolute;width:100%;height:100%;left:0;top:0;border:none !important;\" data-html=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 onload=\"this.contentDocument.open();this.contentDocument.write(atob(this.getAttribute('data-html')));this.contentDocument.close();\" allowfullscreen webkitallowfullscreen mozallowfullscreen></iframe></div></div>"
      ],
      "text/plain": [
       "<folium.folium.Map at 0x7fa00860a208>"
      ]
     },
     "execution_count": 12,
     "metadata": {},
     "output_type": "execute_result"
    }
   ],
   "source": [
    "# draw a map of the zEstimate ratio for all the transactions\n",
    "\n",
    "# the map is centered on Sancho's Taqueria out of respect for their fish tacos\n",
    "m = folium.Map([37.4710361,-122.2629159], zoom_start=13)\n",
    "\n",
    "# the heatmap plugin expects either a 2D or 3D array with columns [lat,long(,weight)]\n",
    "# it also can't handle NaNs\n",
    "\n",
    "heatmapdata = np.array(df[['latitude','longitude','zEstimate ratio']].dropna())\n",
    "m.add_child(plugins.HeatMap(heatmapdata, radius=15))\n",
    "m"
   ]
  },
  {
   "cell_type": "markdown",
   "metadata": {},
   "source": [
    "Recall that this is the map we started with:\n",
    "![map](Screen%20Shot%202020-06-05%20at%2011.36.45%20PM.png)"
   ]
  },
  {
   "cell_type": "code",
   "execution_count": 13,
   "metadata": {},
   "outputs": [
    {
     "data": {
      "text/html": [
       "<div style=\"width:100%;\"><div style=\"position:relative;width:100%;height:0;padding-bottom:60%;\"><iframe src=\"about:blank\" style=\"position:absolute;width:100%;height:100%;left:0;top:0;border:none !important;\" data-html=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 onload=\"this.contentDocument.open();this.contentDocument.write(atob(this.getAttribute('data-html')));this.contentDocument.close();\" allowfullscreen webkitallowfullscreen mozallowfullscreen></iframe></div></div>"
      ],
      "text/plain": [
       "<folium.folium.Map at 0x7fa008603ac8>"
      ]
     },
     "execution_count": 13,
     "metadata": {},
     "output_type": "execute_result"
    }
   ],
   "source": [
    "# another heatmap but this time based on selling price\n",
    "# just remember that we've already filtered on selling prices between 2M and 3.5M\n",
    "# so this is not the full picture\n",
    "\n",
    "m = folium.Map([37.4710361,-122.2629159], zoom_start=13)\n",
    "heatmapdata = np.array(df[['latitude','longitude','sellingPrice']].dropna())\n",
    "m.add_child(plugins.HeatMap(heatmapdata, radius=10))\n",
    "m"
   ]
  },
  {
   "cell_type": "code",
   "execution_count": 14,
   "metadata": {},
   "outputs": [
    {
     "data": {
      "image/png": "[encoded data removed]",
      "text/plain": [
       "<Figure size 432x288 with 1 Axes>"
      ]
     },
     "metadata": {
      "needs_background": "light"
     },
     "output_type": "display_data"
    }
   ],
   "source": [
    "# look at the zEstimate ratio x sellingPrice\n",
    "df.plot.scatter(x='sellingPrice',y='zEstimate ratio');"
   ]
  },
  {
   "cell_type": "markdown",
   "metadata": {},
   "source": [
    "This looks reasonably random. Let's try by zipcode:"
   ]
  },
  {
   "cell_type": "code",
   "execution_count": 15,
   "metadata": {},
   "outputs": [
    {
     "data": {
      "image/png": "[encoded data removed]",
      "text/plain": [
       "<Figure size 432x288 with 1 Axes>"
      ]
     },
     "metadata": {
      "needs_background": "light"
     },
     "output_type": "display_data"
    }
   ],
   "source": [
    "df.plot.scatter(x='zipcode',y='zEstimate ratio');"
   ]
  },
  {
   "cell_type": "markdown",
   "metadata": {},
   "source": [
    "Thats not a particularly useful visualization, let's use histograms instead:"
   ]
  },
  {
   "cell_type": "code",
   "execution_count": 16,
   "metadata": {},
   "outputs": [
    {
     "data": {
      "image/png": "[encoded data removed]",
      "text/plain": [
       "<Figure size 432x288 with 1 Axes>"
      ]
     },
     "metadata": {
      "needs_background": "light"
     },
     "output_type": "display_data"
    }
   ],
   "source": [
    "for zc in df.zipcode.unique():\n",
    "    sns.distplot( df.loc[df.zipcode == zc,\"zEstimate ratio\"], label=zc, hist=False)\n",
    "plt.legend();"
   ]
  },
  {
   "cell_type": "code",
   "execution_count": 44,
   "metadata": {},
   "outputs": [
    {
     "data": {
      "text/plain": [
       "0.1883645659785085"
      ]
     },
     "execution_count": 44,
     "metadata": {},
     "output_type": "execute_result"
    }
   ],
   "source": [
    "# standard deviation of zEstimate ratio\n",
    "df['zEstimate ratio'].std()"
   ]
  },
  {
   "cell_type": "code",
   "execution_count": 45,
   "metadata": {},
   "outputs": [
    {
     "data": {
      "text/plain": [
       "1.0604130637458262"
      ]
     },
     "execution_count": 45,
     "metadata": {},
     "output_type": "execute_result"
    }
   ],
   "source": [
    "# mean zEstimate ratio\n",
    "df['zEstimate ratio'].mean()"
   ]
  },
  {
   "cell_type": "markdown",
   "metadata": {},
   "source": [
    "Look at whether houses are selling above or below the original listing price. A listing ratio of 1 means the house sold for the original listing price. Higher than 1 implies multiple offers. Lower than 1 indicates the original listing price was too high to clear the market."
   ]
  },
  {
   "cell_type": "code",
   "execution_count": 17,
   "metadata": {},
   "outputs": [
    {
     "data": {
      "image/png": "[encoded data removed]",
      "text/plain": [
       "<Figure size 432x288 with 1 Axes>"
      ]
     },
     "metadata": {
      "needs_background": "light"
     },
     "output_type": "display_data"
    }
   ],
   "source": [
    "df.plot.scatter(x='sellingPrice',y='listing ratio');"
   ]
  },
  {
   "cell_type": "markdown",
   "metadata": {},
   "source": [
    "There appears to be a bit more upside in selling price/listing price for the lower priced properties."
   ]
  },
  {
   "cell_type": "markdown",
   "metadata": {},
   "source": [
    "Look at the correlation in price and living area:"
   ]
  },
  {
   "cell_type": "code",
   "execution_count": 18,
   "metadata": {},
   "outputs": [
    {
     "data": {
      "image/png": "[encoded data removed]",
      "text/plain": [
       "<Figure size 432x288 with 1 Axes>"
      ]
     },
     "metadata": {
      "needs_background": "light"
     },
     "output_type": "display_data"
    }
   ],
   "source": [
    "df.plot.scatter(x='area',y='sellingPrice');"
   ]
  },
  {
   "cell_type": "markdown",
   "metadata": {},
   "source": [
    "Our property is 3000 sf, how does that compare to the houses being sold in my neighborhood in a similar price range?"
   ]
  },
  {
   "cell_type": "code",
   "execution_count": 19,
   "metadata": {},
   "outputs": [
    {
     "data": {
      "image/png": "[encoded data removed]",
      "text/plain": [
       "<Figure size 432x288 with 1 Axes>"
      ]
     },
     "metadata": {
      "needs_background": "light"
     },
     "output_type": "display_data"
    }
   ],
   "source": [
    "sns.distplot(df['area']);"
   ]
  },
  {
   "cell_type": "markdown",
   "metadata": {},
   "source": [
    "House prices in Silicon Valley are often looked at in terms of price per square foot. Since we have some outliers in that dimension let's just look between \\\\$0 and \\\\$2000/sf."
   ]
  },
  {
   "cell_type": "code",
   "execution_count": 20,
   "metadata": {},
   "outputs": [
    {
     "data": {
      "image/png": "[encoded data removed]",
      "text/plain": [
       "<Figure size 432x288 with 1 Axes>"
      ]
     },
     "metadata": {
      "needs_background": "light"
     },
     "output_type": "display_data"
    }
   ],
   "source": [
    "sns.distplot(df.loc[df['price per sf']<2000,'price per sf']);"
   ]
  },
  {
   "cell_type": "markdown",
   "metadata": {},
   "source": [
    "Since we have several years of data let's look at how this distribution has evolved over time."
   ]
  },
  {
   "cell_type": "code",
   "execution_count": 21,
   "metadata": {},
   "outputs": [
    {
     "data": {
      "image/png": "[encoded data removed]",
      "text/plain": [
       "<Figure size 432x288 with 1 Axes>"
      ]
     },
     "metadata": {
      "needs_background": "light"
     },
     "output_type": "display_data"
    }
   ],
   "source": [
    "for y in df['yearSold'].unique():\n",
    "    sns.distplot( \n",
    "        df.loc[(df.yearSold == y) &\n",
    "        (df['price per sf'] < 2000),'price per sf'], label=y, hist=False)\n",
    "plt.legend();"
   ]
  },
  {
   "cell_type": "markdown",
   "metadata": {},
   "source": [
    "My property is in the 94062 zip code, let's narrow in on that:"
   ]
  },
  {
   "cell_type": "code",
   "execution_count": 22,
   "metadata": {},
   "outputs": [
    {
     "data": {
      "image/png": "[encoded data removed]",
      "text/plain": [
       "<Figure size 432x288 with 1 Axes>"
      ]
     },
     "metadata": {
      "needs_background": "light"
     },
     "output_type": "display_data"
    }
   ],
   "source": [
    "for y in df['yearSold'].unique():\n",
    "    sns.distplot( \n",
    "        df.loc[(df.yearSold == y) & \n",
    "        (df['price per sf'] < 2000) &\n",
    "        (df['zipcode'] == 94062),\"price per sf\"], label=y, hist=False)\n",
    "plt.legend();"
   ]
  },
  {
   "cell_type": "markdown",
   "metadata": {},
   "source": [
    "It appears that prices per square foot rose from 2017 to 2018, dropped very slightly in 2019, and have gone back up in 2020."
   ]
  },
  {
   "cell_type": "markdown",
   "metadata": {},
   "source": [
    "Let's examine price per square foot as a function of year built:"
   ]
  },
  {
   "cell_type": "code",
   "execution_count": 23,
   "metadata": {},
   "outputs": [
    {
     "data": {
      "image/png": "[encoded data removed]",
      "text/plain": [
       "<Figure size 432x288 with 1 Axes>"
      ]
     },
     "metadata": {
      "needs_background": "light"
     },
     "output_type": "display_data"
    }
   ],
   "source": [
    "df.plot.scatter(x='yearBuilt',y='price per sf')\n",
    "plt.xlim(1900,2020)\n",
    "plt.ylim(0,2000);"
   ]
  },
  {
   "cell_type": "markdown",
   "metadata": {},
   "source": [
    "It's easy to see that there are relatively few newer houses in my area, the bulk of construction appears to have happened in the late 1940s and 1990s. We can verify this with another histogram:"
   ]
  },
  {
   "cell_type": "code",
   "execution_count": 24,
   "metadata": {},
   "outputs": [
    {
     "data": {
      "image/png": "[encoded data removed]",
      "text/plain": [
       "<Figure size 432x288 with 1 Axes>"
      ]
     },
     "metadata": {
      "needs_background": "light"
     },
     "output_type": "display_data"
    }
   ],
   "source": [
    "sns.distplot(df.loc[df['yearBuilt']>1900,'yearBuilt']);"
   ]
  },
  {
   "cell_type": "markdown",
   "metadata": {},
   "source": [
    "Now let's look at how long a house stays on the market before it sells."
   ]
  },
  {
   "cell_type": "code",
   "execution_count": 25,
   "metadata": {},
   "outputs": [
    {
     "data": {
      "image/png": "[encoded data removed]",
      "text/plain": [
       "<Figure size 432x288 with 1 Axes>"
      ]
     },
     "metadata": {
      "needs_background": "light"
     },
     "output_type": "display_data"
    }
   ],
   "source": [
    "df.plot.scatter(x='sellingPrice',y='days to sell');"
   ]
  },
  {
   "cell_type": "markdown",
   "metadata": {},
   "source": [
    "Again a histogram is in order:"
   ]
  },
  {
   "cell_type": "code",
   "execution_count": 26,
   "metadata": {},
   "outputs": [
    {
     "data": {
      "image/png": "[encoded data removed]",
      "text/plain": [
       "<Figure size 432x288 with 1 Axes>"
      ]
     },
     "metadata": {
      "needs_background": "light"
     },
     "output_type": "display_data"
    }
   ],
   "source": [
    "sns.distplot(df['days to sell']);"
   ]
  },
  {
   "cell_type": "markdown",
   "metadata": {},
   "source": [
    "And for 94062 only:"
   ]
  },
  {
   "cell_type": "code",
   "execution_count": 27,
   "metadata": {},
   "outputs": [
    {
     "data": {
      "image/png": "[encoded data removed]",
      "text/plain": [
       "<Figure size 432x288 with 1 Axes>"
      ]
     },
     "metadata": {
      "needs_background": "light"
     },
     "output_type": "display_data"
    }
   ],
   "source": [
    "sns.distplot(df.loc[df['zipcode']==94062,'days to sell']);"
   ]
  },
  {
   "cell_type": "markdown",
   "metadata": {},
   "source": [
    "94062 by year"
   ]
  },
  {
   "cell_type": "code",
   "execution_count": 28,
   "metadata": {},
   "outputs": [
    {
     "data": {
      "image/png": "[encoded data removed]",
      "text/plain": [
       "<Figure size 432x288 with 1 Axes>"
      ]
     },
     "metadata": {
      "needs_background": "light"
     },
     "output_type": "display_data"
    }
   ],
   "source": [
    "for y in df['yearSold'].unique():\n",
    "    sns.distplot(df.loc[(df.yearSold == y) & (df['zipcode'] == 94062),'days to sell'],\n",
    "                 label=y, hist=False)\n",
    "plt.xlim(0,180)\n",
    "plt.legend();"
   ]
  },
  {
   "cell_type": "markdown",
   "metadata": {},
   "source": [
    "It's apparent that it's taking a bit longer to sell houses in 2020."
   ]
  },
  {
   "cell_type": "markdown",
   "metadata": {},
   "source": [
    "## Nearest Neighbors\n",
    "Real-estate valuation is usually based on *comparables* - similar houses in the same neighborhood. We can find these based on a normalized euclidian distance between our house and all the other houses. We're not actually trying to cluster, just find the *k* nearest neighbors.\n",
    "\n",
    "The dimensions of interest for computing the euclidian distance are:\n",
    "\n",
    "* beds\n",
    "* baths\n",
    "* area\n",
    "* yearBuilt\n",
    "* lotSize\n",
    "\n",
    "We'll ignore latitude and longitude for now."
   ]
  },
  {
   "cell_type": "code",
   "execution_count": 29,
   "metadata": {},
   "outputs": [
    {
     "data": {
      "text/html": [
       "<div>\n",
       "<style scoped>\n",
       "    .dataframe tbody tr th:only-of-type {\n",
       "        vertical-align: middle;\n",
       "    }\n",
       "\n",
       "    .dataframe tbody tr th {\n",
       "        vertical-align: top;\n",
       "    }\n",
       "\n",
       "    .dataframe thead th {\n",
       "        text-align: right;\n",
       "    }\n",
       "</style>\n",
       "<table border=\"1\" class=\"dataframe\">\n",
       "  <thead>\n",
       "    <tr style=\"text-align: right;\">\n",
       "      <th></th>\n",
       "      <th>beds</th>\n",
       "      <th>baths</th>\n",
       "      <th>area</th>\n",
       "      <th>yearBuilt</th>\n",
       "      <th>lotSize</th>\n",
       "    </tr>\n",
       "  </thead>\n",
       "  <tbody>\n",
       "    <tr>\n",
       "      <th>count</th>\n",
       "      <td>390.000000</td>\n",
       "      <td>390.000000</td>\n",
       "      <td>390.000000</td>\n",
       "      <td>390.000000</td>\n",
       "      <td>390.000000</td>\n",
       "    </tr>\n",
       "    <tr>\n",
       "      <th>mean</th>\n",
       "      <td>3.892308</td>\n",
       "      <td>3.299359</td>\n",
       "      <td>2767.964103</td>\n",
       "      <td>1957.692308</td>\n",
       "      <td>14216.289744</td>\n",
       "    </tr>\n",
       "    <tr>\n",
       "      <th>std</th>\n",
       "      <td>0.947839</td>\n",
       "      <td>1.058218</td>\n",
       "      <td>949.786104</td>\n",
       "      <td>142.900050</td>\n",
       "      <td>14586.226551</td>\n",
       "    </tr>\n",
       "    <tr>\n",
       "      <th>min</th>\n",
       "      <td>1.000000</td>\n",
       "      <td>1.000000</td>\n",
       "      <td>456.000000</td>\n",
       "      <td>-1.000000</td>\n",
       "      <td>-1.000000</td>\n",
       "    </tr>\n",
       "    <tr>\n",
       "      <th>25%</th>\n",
       "      <td>3.000000</td>\n",
       "      <td>3.000000</td>\n",
       "      <td>2122.500000</td>\n",
       "      <td>1950.000000</td>\n",
       "      <td>7254.750000</td>\n",
       "    </tr>\n",
       "    <tr>\n",
       "      <th>50%</th>\n",
       "      <td>4.000000</td>\n",
       "      <td>3.000000</td>\n",
       "      <td>2630.000000</td>\n",
       "      <td>1963.000000</td>\n",
       "      <td>10000.000000</td>\n",
       "    </tr>\n",
       "    <tr>\n",
       "      <th>75%</th>\n",
       "      <td>4.000000</td>\n",
       "      <td>4.000000</td>\n",
       "      <td>3197.250000</td>\n",
       "      <td>1987.000000</td>\n",
       "      <td>15985.500000</td>\n",
       "    </tr>\n",
       "    <tr>\n",
       "      <th>max</th>\n",
       "      <td>11.000000</td>\n",
       "      <td>8.000000</td>\n",
       "      <td>8487.000000</td>\n",
       "      <td>2019.000000</td>\n",
       "      <td>175546.000000</td>\n",
       "    </tr>\n",
       "  </tbody>\n",
       "</table>\n",
       "</div>"
      ],
      "text/plain": [
       "             beds       baths         area    yearBuilt        lotSize\n",
       "count  390.000000  390.000000   390.000000   390.000000     390.000000\n",
       "mean     3.892308    3.299359  2767.964103  1957.692308   14216.289744\n",
       "std      0.947839    1.058218   949.786104   142.900050   14586.226551\n",
       "min      1.000000    1.000000   456.000000    -1.000000      -1.000000\n",
       "25%      3.000000    3.000000  2122.500000  1950.000000    7254.750000\n",
       "50%      4.000000    3.000000  2630.000000  1963.000000   10000.000000\n",
       "75%      4.000000    4.000000  3197.250000  1987.000000   15985.500000\n",
       "max     11.000000    8.000000  8487.000000  2019.000000  175546.000000"
      ]
     },
     "execution_count": 29,
     "metadata": {},
     "output_type": "execute_result"
    }
   ],
   "source": [
    "df_norm = df[['beds','baths','area','yearBuilt','lotSize']].copy().dropna()\n",
    "df_norm.describe()"
   ]
  },
  {
   "cell_type": "code",
   "execution_count": 30,
   "metadata": {},
   "outputs": [
    {
     "data": {
      "text/html": [
       "<div>\n",
       "<style scoped>\n",
       "    .dataframe tbody tr th:only-of-type {\n",
       "        vertical-align: middle;\n",
       "    }\n",
       "\n",
       "    .dataframe tbody tr th {\n",
       "        vertical-align: top;\n",
       "    }\n",
       "\n",
       "    .dataframe thead th {\n",
       "        text-align: right;\n",
       "    }\n",
       "</style>\n",
       "<table border=\"1\" class=\"dataframe\">\n",
       "  <thead>\n",
       "    <tr style=\"text-align: right;\">\n",
       "      <th></th>\n",
       "      <th>beds</th>\n",
       "      <th>baths</th>\n",
       "      <th>area</th>\n",
       "      <th>yearBuilt</th>\n",
       "      <th>lotSize</th>\n",
       "    </tr>\n",
       "    <tr>\n",
       "      <th>zpid</th>\n",
       "      <th></th>\n",
       "      <th></th>\n",
       "      <th></th>\n",
       "      <th></th>\n",
       "      <th></th>\n",
       "    </tr>\n",
       "  </thead>\n",
       "  <tbody>\n",
       "    <tr>\n",
       "      <th>2082824737</th>\n",
       "      <td>4.0</td>\n",
       "      <td>4.0</td>\n",
       "      <td>1983.0</td>\n",
       "      <td>-1</td>\n",
       "      <td>-1.0</td>\n",
       "    </tr>\n",
       "    <tr>\n",
       "      <th>249950101</th>\n",
       "      <td>3.0</td>\n",
       "      <td>1.0</td>\n",
       "      <td>1900.0</td>\n",
       "      <td>-1</td>\n",
       "      <td>-1.0</td>\n",
       "    </tr>\n",
       "    <tr>\n",
       "      <th>2089639965</th>\n",
       "      <td>5.0</td>\n",
       "      <td>5.0</td>\n",
       "      <td>4128.0</td>\n",
       "      <td>1987</td>\n",
       "      <td>-1.0</td>\n",
       "    </tr>\n",
       "  </tbody>\n",
       "</table>\n",
       "</div>"
      ],
      "text/plain": [
       "            beds  baths    area  yearBuilt  lotSize\n",
       "zpid                                               \n",
       "2082824737   4.0    4.0  1983.0         -1     -1.0\n",
       "249950101    3.0    1.0  1900.0         -1     -1.0\n",
       "2089639965   5.0    5.0  4128.0       1987     -1.0"
      ]
     },
     "execution_count": 30,
     "metadata": {},
     "output_type": "execute_result"
    }
   ],
   "source": [
    "# find the -1 values\n",
    "df_norm.loc[(df_norm.yearBuilt == -1) | (df_norm.lotSize == -1)]"
   ]
  },
  {
   "cell_type": "code",
   "execution_count": 31,
   "metadata": {},
   "outputs": [],
   "source": [
    "df_norm.drop(df_norm.loc[(df_norm.yearBuilt == -1) | (df_norm.lotSize == -1)].index,inplace=True)"
   ]
  },
  {
   "cell_type": "code",
   "execution_count": 32,
   "metadata": {},
   "outputs": [
    {
     "data": {
      "text/html": [
       "<div>\n",
       "<style scoped>\n",
       "    .dataframe tbody tr th:only-of-type {\n",
       "        vertical-align: middle;\n",
       "    }\n",
       "\n",
       "    .dataframe tbody tr th {\n",
       "        vertical-align: top;\n",
       "    }\n",
       "\n",
       "    .dataframe thead th {\n",
       "        text-align: right;\n",
       "    }\n",
       "</style>\n",
       "<table border=\"1\" class=\"dataframe\">\n",
       "  <thead>\n",
       "    <tr style=\"text-align: right;\">\n",
       "      <th></th>\n",
       "      <th>beds</th>\n",
       "      <th>baths</th>\n",
       "      <th>area</th>\n",
       "      <th>yearBuilt</th>\n",
       "      <th>lotSize</th>\n",
       "    </tr>\n",
       "  </thead>\n",
       "  <tbody>\n",
       "    <tr>\n",
       "      <th>count</th>\n",
       "      <td>387.000000</td>\n",
       "      <td>387.000000</td>\n",
       "      <td>387.000000</td>\n",
       "      <td>387.000000</td>\n",
       "      <td>387.000000</td>\n",
       "    </tr>\n",
       "    <tr>\n",
       "      <th>mean</th>\n",
       "      <td>3.891473</td>\n",
       "      <td>3.299096</td>\n",
       "      <td>2768.720930</td>\n",
       "      <td>1967.739018</td>\n",
       "      <td>14326.501292</td>\n",
       "    </tr>\n",
       "    <tr>\n",
       "      <th>std</th>\n",
       "      <td>0.948740</td>\n",
       "      <td>1.051698</td>\n",
       "      <td>949.085977</td>\n",
       "      <td>24.445808</td>\n",
       "      <td>14588.640023</td>\n",
       "    </tr>\n",
       "    <tr>\n",
       "      <th>min</th>\n",
       "      <td>1.000000</td>\n",
       "      <td>1.000000</td>\n",
       "      <td>456.000000</td>\n",
       "      <td>1907.000000</td>\n",
       "      <td>3000.000000</td>\n",
       "    </tr>\n",
       "    <tr>\n",
       "      <th>25%</th>\n",
       "      <td>3.000000</td>\n",
       "      <td>3.000000</td>\n",
       "      <td>2135.000000</td>\n",
       "      <td>1950.000000</td>\n",
       "      <td>7313.500000</td>\n",
       "    </tr>\n",
       "    <tr>\n",
       "      <th>50%</th>\n",
       "      <td>4.000000</td>\n",
       "      <td>3.000000</td>\n",
       "      <td>2630.000000</td>\n",
       "      <td>1963.000000</td>\n",
       "      <td>10001.000000</td>\n",
       "    </tr>\n",
       "    <tr>\n",
       "      <th>75%</th>\n",
       "      <td>4.000000</td>\n",
       "      <td>4.000000</td>\n",
       "      <td>3194.500000</td>\n",
       "      <td>1987.000000</td>\n",
       "      <td>16025.500000</td>\n",
       "    </tr>\n",
       "    <tr>\n",
       "      <th>max</th>\n",
       "      <td>11.000000</td>\n",
       "      <td>8.000000</td>\n",
       "      <td>8487.000000</td>\n",
       "      <td>2019.000000</td>\n",
       "      <td>175546.000000</td>\n",
       "    </tr>\n",
       "  </tbody>\n",
       "</table>\n",
       "</div>"
      ],
      "text/plain": [
       "             beds       baths         area    yearBuilt        lotSize\n",
       "count  387.000000  387.000000   387.000000   387.000000     387.000000\n",
       "mean     3.891473    3.299096  2768.720930  1967.739018   14326.501292\n",
       "std      0.948740    1.051698   949.085977    24.445808   14588.640023\n",
       "min      1.000000    1.000000   456.000000  1907.000000    3000.000000\n",
       "25%      3.000000    3.000000  2135.000000  1950.000000    7313.500000\n",
       "50%      4.000000    3.000000  2630.000000  1963.000000   10001.000000\n",
       "75%      4.000000    4.000000  3194.500000  1987.000000   16025.500000\n",
       "max     11.000000    8.000000  8487.000000  2019.000000  175546.000000"
      ]
     },
     "execution_count": 32,
     "metadata": {},
     "output_type": "execute_result"
    }
   ],
   "source": [
    "df_norm.describe()"
   ]
  },
  {
   "cell_type": "code",
   "execution_count": 33,
   "metadata": {},
   "outputs": [],
   "source": [
    "my_house = {\n",
    "    'beds': 4,\n",
    "    'baths': 3.5,\n",
    "    'area': 3000,\n",
    "    'yearBuilt': 2008, # actually 1979 but substantially remodeled in 2008 so we'll use the newer date\n",
    "    'lotSize': 9900\n",
    "}\n",
    "df = df.append(pd.DataFrame(my_house,index=[0]))"
   ]
  },
  {
   "cell_type": "code",
   "execution_count": 34,
   "metadata": {},
   "outputs": [],
   "source": [
    "for col in df_norm.columns:\n",
    "    mx = df_norm[col].max()\n",
    "    mn = df_norm[col].min()\n",
    "    df_norm[col] = (df_norm[col] - mn)/(mx-mn)"
   ]
  },
  {
   "cell_type": "code",
   "execution_count": 35,
   "metadata": {},
   "outputs": [
    {
     "data": {
      "text/html": [
       "<div>\n",
       "<style scoped>\n",
       "    .dataframe tbody tr th:only-of-type {\n",
       "        vertical-align: middle;\n",
       "    }\n",
       "\n",
       "    .dataframe tbody tr th {\n",
       "        vertical-align: top;\n",
       "    }\n",
       "\n",
       "    .dataframe thead th {\n",
       "        text-align: right;\n",
       "    }\n",
       "</style>\n",
       "<table border=\"1\" class=\"dataframe\">\n",
       "  <thead>\n",
       "    <tr style=\"text-align: right;\">\n",
       "      <th></th>\n",
       "      <th>beds</th>\n",
       "      <th>baths</th>\n",
       "      <th>area</th>\n",
       "      <th>yearBuilt</th>\n",
       "      <th>lotSize</th>\n",
       "    </tr>\n",
       "  </thead>\n",
       "  <tbody>\n",
       "    <tr>\n",
       "      <th>count</th>\n",
       "      <td>387.000000</td>\n",
       "      <td>387.000000</td>\n",
       "      <td>387.000000</td>\n",
       "      <td>387.000000</td>\n",
       "      <td>387.000000</td>\n",
       "    </tr>\n",
       "    <tr>\n",
       "      <th>mean</th>\n",
       "      <td>0.289147</td>\n",
       "      <td>0.328442</td>\n",
       "      <td>0.287974</td>\n",
       "      <td>0.542313</td>\n",
       "      <td>0.065643</td>\n",
       "    </tr>\n",
       "    <tr>\n",
       "      <th>std</th>\n",
       "      <td>0.094874</td>\n",
       "      <td>0.150243</td>\n",
       "      <td>0.118178</td>\n",
       "      <td>0.218266</td>\n",
       "      <td>0.084549</td>\n",
       "    </tr>\n",
       "    <tr>\n",
       "      <th>min</th>\n",
       "      <td>0.000000</td>\n",
       "      <td>0.000000</td>\n",
       "      <td>0.000000</td>\n",
       "      <td>0.000000</td>\n",
       "      <td>0.000000</td>\n",
       "    </tr>\n",
       "    <tr>\n",
       "      <th>25%</th>\n",
       "      <td>0.200000</td>\n",
       "      <td>0.285714</td>\n",
       "      <td>0.209065</td>\n",
       "      <td>0.383929</td>\n",
       "      <td>0.024999</td>\n",
       "    </tr>\n",
       "    <tr>\n",
       "      <th>50%</th>\n",
       "      <td>0.300000</td>\n",
       "      <td>0.285714</td>\n",
       "      <td>0.270701</td>\n",
       "      <td>0.500000</td>\n",
       "      <td>0.040575</td>\n",
       "    </tr>\n",
       "    <tr>\n",
       "      <th>75%</th>\n",
       "      <td>0.300000</td>\n",
       "      <td>0.428571</td>\n",
       "      <td>0.340991</td>\n",
       "      <td>0.714286</td>\n",
       "      <td>0.075490</td>\n",
       "    </tr>\n",
       "    <tr>\n",
       "      <th>max</th>\n",
       "      <td>1.000000</td>\n",
       "      <td>1.000000</td>\n",
       "      <td>1.000000</td>\n",
       "      <td>1.000000</td>\n",
       "      <td>1.000000</td>\n",
       "    </tr>\n",
       "  </tbody>\n",
       "</table>\n",
       "</div>"
      ],
      "text/plain": [
       "             beds       baths        area   yearBuilt     lotSize\n",
       "count  387.000000  387.000000  387.000000  387.000000  387.000000\n",
       "mean     0.289147    0.328442    0.287974    0.542313    0.065643\n",
       "std      0.094874    0.150243    0.118178    0.218266    0.084549\n",
       "min      0.000000    0.000000    0.000000    0.000000    0.000000\n",
       "25%      0.200000    0.285714    0.209065    0.383929    0.024999\n",
       "50%      0.300000    0.285714    0.270701    0.500000    0.040575\n",
       "75%      0.300000    0.428571    0.340991    0.714286    0.075490\n",
       "max      1.000000    1.000000    1.000000    1.000000    1.000000"
      ]
     },
     "execution_count": 35,
     "metadata": {},
     "output_type": "execute_result"
    }
   ],
   "source": [
    "df_norm.describe()"
   ]
  },
  {
   "cell_type": "code",
   "execution_count": 36,
   "metadata": {},
   "outputs": [],
   "source": [
    "# convert the dataframe to an array\n",
    "array_norm = np.array(df_norm)\n",
    "\n",
    "# now pull the house off the end of the dataframe\n",
    "my_house_norm = array_norm[-1:]\n",
    "array_norm = array_norm[:-1]\n",
    "df_norm = df_norm[:-1]\n",
    "\n",
    "# compute the euclidian distances from all the houses to my house\n",
    "df_norm['dist'] = euclidean_distances(array_norm, my_house_norm)"
   ]
  },
  {
   "cell_type": "code",
   "execution_count": 37,
   "metadata": {},
   "outputs": [],
   "source": [
    "# now we can get the nearest neighbors\n",
    "top5_neighbors = df_norm.sort_values(by='dist').head()"
   ]
  },
  {
   "cell_type": "markdown",
   "metadata": {},
   "source": [
    "Having found the 5 nearest neighbors based on normalized euclidian distances we can now look at the actual properties:"
   ]
  },
  {
   "cell_type": "code",
   "execution_count": 38,
   "metadata": {},
   "outputs": [
    {
     "data": {
      "text/html": [
       "<div>\n",
       "<style scoped>\n",
       "    .dataframe tbody tr th:only-of-type {\n",
       "        vertical-align: middle;\n",
       "    }\n",
       "\n",
       "    .dataframe tbody tr th {\n",
       "        vertical-align: top;\n",
       "    }\n",
       "\n",
       "    .dataframe thead th {\n",
       "        text-align: right;\n",
       "    }\n",
       "</style>\n",
       "<table border=\"1\" class=\"dataframe\">\n",
       "  <thead>\n",
       "    <tr style=\"text-align: right;\">\n",
       "      <th></th>\n",
       "      <th>address</th>\n",
       "      <th>zipcode</th>\n",
       "      <th>latitude</th>\n",
       "      <th>longitude</th>\n",
       "      <th>beds</th>\n",
       "      <th>baths</th>\n",
       "      <th>area</th>\n",
       "      <th>dateSold</th>\n",
       "      <th>yearBuilt</th>\n",
       "      <th>lotSize</th>\n",
       "      <th>zestimate</th>\n",
       "      <th>sellingPrice</th>\n",
       "      <th>sellerAgent</th>\n",
       "      <th>sellerAgentUrl</th>\n",
       "      <th>listedAt</th>\n",
       "      <th>firstListingPrice</th>\n",
       "      <th>timesListed</th>\n",
       "      <th>zEstimate_at_listing</th>\n",
       "      <th>zEstimate_date</th>\n",
       "      <th>url</th>\n",
       "      <th>yearSold</th>\n",
       "      <th>zEstimate ratio</th>\n",
       "      <th>listing ratio</th>\n",
       "      <th>days to sell</th>\n",
       "      <th>price per sf</th>\n",
       "    </tr>\n",
       "  </thead>\n",
       "  <tbody>\n",
       "    <tr>\n",
       "      <th>15590098</th>\n",
       "      <td>786 Lakemead Way, Emerald Hills, CA 94062</td>\n",
       "      <td>94062.0</td>\n",
       "      <td>37.459667</td>\n",
       "      <td>-122.266155</td>\n",
       "      <td>4.0</td>\n",
       "      <td>4.0</td>\n",
       "      <td>2503.0</td>\n",
       "      <td>2020-02-14</td>\n",
       "      <td>1949</td>\n",
       "      <td>10031.0</td>\n",
       "      <td>2608298.0</td>\n",
       "      <td>2675000.0</td>\n",
       "      <td>NaN</td>\n",
       "      <td>NaN</td>\n",
       "      <td>2020-01-03</td>\n",
       "      <td>2695000.0</td>\n",
       "      <td>1.0</td>\n",
       "      <td>1509038.0</td>\n",
       "      <td>2019-12-31</td>\n",
       "      <td>https://www.zillow.com/homedetails/786-Lakemea...</td>\n",
       "      <td>2020.0</td>\n",
       "      <td>1.772653</td>\n",
       "      <td>0.992579</td>\n",
       "      <td>42.0</td>\n",
       "      <td>1068.717539</td>\n",
       "    </tr>\n",
       "    <tr>\n",
       "      <th>15565319</th>\n",
       "      <td>114 Madison Ave, Redwood City, CA 94061</td>\n",
       "      <td>94061.0</td>\n",
       "      <td>37.481305</td>\n",
       "      <td>-122.229399</td>\n",
       "      <td>4.0</td>\n",
       "      <td>4.0</td>\n",
       "      <td>2372.0</td>\n",
       "      <td>2018-11-15</td>\n",
       "      <td>1949</td>\n",
       "      <td>6969.0</td>\n",
       "      <td>1787977.0</td>\n",
       "      <td>2100000.0</td>\n",
       "      <td>NaN</td>\n",
       "      <td>NaN</td>\n",
       "      <td>NaT</td>\n",
       "      <td>NaN</td>\n",
       "      <td>0.0</td>\n",
       "      <td>1761158.0</td>\n",
       "      <td>2018-10-31</td>\n",
       "      <td>https://www.zillow.com/homedetails/114-Madison...</td>\n",
       "      <td>2018.0</td>\n",
       "      <td>1.192397</td>\n",
       "      <td>NaN</td>\n",
       "      <td>NaN</td>\n",
       "      <td>885.328836</td>\n",
       "    </tr>\n",
       "    <tr>\n",
       "      <th>15575469</th>\n",
       "      <td>2602 Mcgarvey Ave, Redwood City, CA 94061</td>\n",
       "      <td>94061.0</td>\n",
       "      <td>37.464434</td>\n",
       "      <td>-122.244899</td>\n",
       "      <td>4.0</td>\n",
       "      <td>4.0</td>\n",
       "      <td>2850.0</td>\n",
       "      <td>2018-07-31</td>\n",
       "      <td>1953</td>\n",
       "      <td>6368.0</td>\n",
       "      <td>2015290.0</td>\n",
       "      <td>2100000.0</td>\n",
       "      <td>Chuck Gillooley</td>\n",
       "      <td>https://www.zillow.com/profile/SanCarlosRealtor/</td>\n",
       "      <td>2018-05-17</td>\n",
       "      <td>2400000.0</td>\n",
       "      <td>1.0</td>\n",
       "      <td>2586669.0</td>\n",
       "      <td>2018-04-30</td>\n",
       "      <td>https://www.zillow.com/homedetails/2602-Mcgarv...</td>\n",
       "      <td>2018.0</td>\n",
       "      <td>0.811855</td>\n",
       "      <td>0.875000</td>\n",
       "      <td>75.0</td>\n",
       "      <td>736.842105</td>\n",
       "    </tr>\n",
       "    <tr>\n",
       "      <th>15590911</th>\n",
       "      <td>2752 Kensington Rd, Redwood City, CA 94061</td>\n",
       "      <td>94061.0</td>\n",
       "      <td>37.456943</td>\n",
       "      <td>-122.237777</td>\n",
       "      <td>4.0</td>\n",
       "      <td>4.0</td>\n",
       "      <td>2276.0</td>\n",
       "      <td>2018-07-31</td>\n",
       "      <td>1952</td>\n",
       "      <td>6050.0</td>\n",
       "      <td>1593038.0</td>\n",
       "      <td>2225000.0</td>\n",
       "      <td>Shawn Ghandchi</td>\n",
       "      <td>https://www.zillow.com/profile/shawnghand/</td>\n",
       "      <td>2018-06-01</td>\n",
       "      <td>2188000.0</td>\n",
       "      <td>1.0</td>\n",
       "      <td>1525275.0</td>\n",
       "      <td>2018-05-31</td>\n",
       "      <td>https://www.zillow.com/homedetails/2752-Kensin...</td>\n",
       "      <td>2018.0</td>\n",
       "      <td>1.458753</td>\n",
       "      <td>1.016910</td>\n",
       "      <td>60.0</td>\n",
       "      <td>977.592267</td>\n",
       "    </tr>\n",
       "    <tr>\n",
       "      <th>15590976</th>\n",
       "      <td>1635 Maddux Dr, Redwood City, CA 94061</td>\n",
       "      <td>94061.0</td>\n",
       "      <td>37.456649</td>\n",
       "      <td>-122.235592</td>\n",
       "      <td>4.0</td>\n",
       "      <td>4.0</td>\n",
       "      <td>2580.0</td>\n",
       "      <td>2018-06-21</td>\n",
       "      <td>1952</td>\n",
       "      <td>6873.0</td>\n",
       "      <td>2186611.0</td>\n",
       "      <td>2280000.0</td>\n",
       "      <td>NaN</td>\n",
       "      <td>NaN</td>\n",
       "      <td>2018-05-08</td>\n",
       "      <td>2250000.0</td>\n",
       "      <td>1.0</td>\n",
       "      <td>2055907.0</td>\n",
       "      <td>2018-04-30</td>\n",
       "      <td>https://www.zillow.com/homedetails/1635-Maddux...</td>\n",
       "      <td>2018.0</td>\n",
       "      <td>1.109000</td>\n",
       "      <td>1.013333</td>\n",
       "      <td>44.0</td>\n",
       "      <td>883.720930</td>\n",
       "    </tr>\n",
       "  </tbody>\n",
       "</table>\n",
       "</div>"
      ],
      "text/plain": [
       "                                             address  zipcode   latitude  \\\n",
       "15590098   786 Lakemead Way, Emerald Hills, CA 94062  94062.0  37.459667   \n",
       "15565319     114 Madison Ave, Redwood City, CA 94061  94061.0  37.481305   \n",
       "15575469   2602 Mcgarvey Ave, Redwood City, CA 94061  94061.0  37.464434   \n",
       "15590911  2752 Kensington Rd, Redwood City, CA 94061  94061.0  37.456943   \n",
       "15590976      1635 Maddux Dr, Redwood City, CA 94061  94061.0  37.456649   \n",
       "\n",
       "           longitude  beds  baths    area    dateSold  yearBuilt  lotSize  \\\n",
       "15590098 -122.266155   4.0    4.0  2503.0  2020-02-14       1949  10031.0   \n",
       "15565319 -122.229399   4.0    4.0  2372.0  2018-11-15       1949   6969.0   \n",
       "15575469 -122.244899   4.0    4.0  2850.0  2018-07-31       1953   6368.0   \n",
       "15590911 -122.237777   4.0    4.0  2276.0  2018-07-31       1952   6050.0   \n",
       "15590976 -122.235592   4.0    4.0  2580.0  2018-06-21       1952   6873.0   \n",
       "\n",
       "          zestimate  sellingPrice      sellerAgent  \\\n",
       "15590098  2608298.0     2675000.0              NaN   \n",
       "15565319  1787977.0     2100000.0              NaN   \n",
       "15575469  2015290.0     2100000.0  Chuck Gillooley   \n",
       "15590911  1593038.0     2225000.0   Shawn Ghandchi   \n",
       "15590976  2186611.0     2280000.0              NaN   \n",
       "\n",
       "                                            sellerAgentUrl    listedAt  \\\n",
       "15590098                                               NaN  2020-01-03   \n",
       "15565319                                               NaN         NaT   \n",
       "15575469  https://www.zillow.com/profile/SanCarlosRealtor/  2018-05-17   \n",
       "15590911        https://www.zillow.com/profile/shawnghand/  2018-06-01   \n",
       "15590976                                               NaN  2018-05-08   \n",
       "\n",
       "          firstListingPrice  timesListed  zEstimate_at_listing zEstimate_date  \\\n",
       "15590098          2695000.0          1.0             1509038.0     2019-12-31   \n",
       "15565319                NaN          0.0             1761158.0     2018-10-31   \n",
       "15575469          2400000.0          1.0             2586669.0     2018-04-30   \n",
       "15590911          2188000.0          1.0             1525275.0     2018-05-31   \n",
       "15590976          2250000.0          1.0             2055907.0     2018-04-30   \n",
       "\n",
       "                                                        url  yearSold  \\\n",
       "15590098  https://www.zillow.com/homedetails/786-Lakemea...    2020.0   \n",
       "15565319  https://www.zillow.com/homedetails/114-Madison...    2018.0   \n",
       "15575469  https://www.zillow.com/homedetails/2602-Mcgarv...    2018.0   \n",
       "15590911  https://www.zillow.com/homedetails/2752-Kensin...    2018.0   \n",
       "15590976  https://www.zillow.com/homedetails/1635-Maddux...    2018.0   \n",
       "\n",
       "          zEstimate ratio  listing ratio  days to sell  price per sf  \n",
       "15590098         1.772653       0.992579          42.0   1068.717539  \n",
       "15565319         1.192397            NaN           NaN    885.328836  \n",
       "15575469         0.811855       0.875000          75.0    736.842105  \n",
       "15590911         1.458753       1.016910          60.0    977.592267  \n",
       "15590976         1.109000       1.013333          44.0    883.720930  "
      ]
     },
     "execution_count": 38,
     "metadata": {},
     "output_type": "execute_result"
    }
   ],
   "source": [
    "df.iloc[df.index.isin(top5_neighbors.index)]"
   ]
  },
  {
   "cell_type": "code",
   "execution_count": 42,
   "metadata": {},
   "outputs": [
    {
     "data": {
      "text/html": [
       "<div>\n",
       "<style scoped>\n",
       "    .dataframe tbody tr th:only-of-type {\n",
       "        vertical-align: middle;\n",
       "    }\n",
       "\n",
       "    .dataframe tbody tr th {\n",
       "        vertical-align: top;\n",
       "    }\n",
       "\n",
       "    .dataframe thead th {\n",
       "        text-align: right;\n",
       "    }\n",
       "</style>\n",
       "<table border=\"1\" class=\"dataframe\">\n",
       "  <thead>\n",
       "    <tr style=\"text-align: right;\">\n",
       "      <th></th>\n",
       "      <th>address</th>\n",
       "      <th>beds</th>\n",
       "      <th>baths</th>\n",
       "      <th>area</th>\n",
       "      <th>yearBuilt</th>\n",
       "      <th>lotSize</th>\n",
       "      <th>sellingPrice</th>\n",
       "    </tr>\n",
       "  </thead>\n",
       "  <tbody>\n",
       "    <tr>\n",
       "      <th>15590098</th>\n",
       "      <td>786 Lakemead Way, Emerald Hills, CA 94062</td>\n",
       "      <td>4.0</td>\n",
       "      <td>4.0</td>\n",
       "      <td>2503.0</td>\n",
       "      <td>1949</td>\n",
       "      <td>10031.0</td>\n",
       "      <td>2675000.0</td>\n",
       "    </tr>\n",
       "    <tr>\n",
       "      <th>15565319</th>\n",
       "      <td>114 Madison Ave, Redwood City, CA 94061</td>\n",
       "      <td>4.0</td>\n",
       "      <td>4.0</td>\n",
       "      <td>2372.0</td>\n",
       "      <td>1949</td>\n",
       "      <td>6969.0</td>\n",
       "      <td>2100000.0</td>\n",
       "    </tr>\n",
       "    <tr>\n",
       "      <th>15575469</th>\n",
       "      <td>2602 Mcgarvey Ave, Redwood City, CA 94061</td>\n",
       "      <td>4.0</td>\n",
       "      <td>4.0</td>\n",
       "      <td>2850.0</td>\n",
       "      <td>1953</td>\n",
       "      <td>6368.0</td>\n",
       "      <td>2100000.0</td>\n",
       "    </tr>\n",
       "    <tr>\n",
       "      <th>15590911</th>\n",
       "      <td>2752 Kensington Rd, Redwood City, CA 94061</td>\n",
       "      <td>4.0</td>\n",
       "      <td>4.0</td>\n",
       "      <td>2276.0</td>\n",
       "      <td>1952</td>\n",
       "      <td>6050.0</td>\n",
       "      <td>2225000.0</td>\n",
       "    </tr>\n",
       "    <tr>\n",
       "      <th>15590976</th>\n",
       "      <td>1635 Maddux Dr, Redwood City, CA 94061</td>\n",
       "      <td>4.0</td>\n",
       "      <td>4.0</td>\n",
       "      <td>2580.0</td>\n",
       "      <td>1952</td>\n",
       "      <td>6873.0</td>\n",
       "      <td>2280000.0</td>\n",
       "    </tr>\n",
       "  </tbody>\n",
       "</table>\n",
       "</div>"
      ],
      "text/plain": [
       "                                             address  beds  baths    area  \\\n",
       "15590098   786 Lakemead Way, Emerald Hills, CA 94062   4.0    4.0  2503.0   \n",
       "15565319     114 Madison Ave, Redwood City, CA 94061   4.0    4.0  2372.0   \n",
       "15575469   2602 Mcgarvey Ave, Redwood City, CA 94061   4.0    4.0  2850.0   \n",
       "15590911  2752 Kensington Rd, Redwood City, CA 94061   4.0    4.0  2276.0   \n",
       "15590976      1635 Maddux Dr, Redwood City, CA 94061   4.0    4.0  2580.0   \n",
       "\n",
       "          yearBuilt  lotSize  sellingPrice  \n",
       "15590098       1949  10031.0     2675000.0  \n",
       "15565319       1949   6969.0     2100000.0  \n",
       "15575469       1953   6368.0     2100000.0  \n",
       "15590911       1952   6050.0     2225000.0  \n",
       "15590976       1952   6873.0     2280000.0  "
      ]
     },
     "execution_count": 42,
     "metadata": {},
     "output_type": "execute_result"
    }
   ],
   "source": [
    "# Narrow down to the features used to match\n",
    "df.iloc[df.index.isin(top5_neighbors.index)]\\\n",
    "    [['address','beds','baths','area',\n",
    "      'yearBuilt','lotSize','sellingPrice']]"
   ]
  }
 ],
 "metadata": {
  "kernelspec": {
   "display_name": "Python 3",
   "language": "python",
   "name": "python3"
  },
  "language_info": {
   "codemirror_mode": {
    "name": "ipython",
    "version": 3
   },
   "file_extension": ".py",
   "mimetype": "text/x-python",
   "name": "python",
   "nbconvert_exporter": "python",
   "pygments_lexer": "ipython3",
   "version": "3.6.10"
  }
 },
 "nbformat": 4,
 "nbformat_minor": 4
}
