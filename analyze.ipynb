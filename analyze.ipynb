{
 "cells": [
  {
   "cell_type": "markdown",
   "metadata": {},
   "source": [
    "# Analyze Real-Estate Sales and Selling Agents\n",
    "Having scraped a large amount of real-estate transaction data around our property we can now proceed to analyze it. Remember the objective: we're trying to get the best price for our property. Also we don't want a long sales cycle so there might be a tradeoff there."
   ]
  },
  {
   "cell_type": "markdown",
   "metadata": {},
   "source": [
    "![Dunphy Realtor](https://pmcvariety.files.wordpress.com/2013/09/bench-2.jpg?w=600)"
   ]
  },
  {
   "cell_type": "code",
   "execution_count": 83,
   "metadata": {},
   "outputs": [],
   "source": [
    "import pandas as pd\n",
    "import numpy as np\n",
    "import datetime as dt\n",
    "from matplotlib import pyplot as plt\n",
    "import folium\n",
    "from folium import plugins\n",
    "import seaborn as sns\n",
    "from sklearn.metrics.pairwise import euclidean_distances\n",
    "\n",
    "pd.options.display.max_rows = 200\n",
    "pd.options.display.max_columns = 100"
   ]
  },
  {
   "cell_type": "code",
   "execution_count": 84,
   "metadata": {},
   "outputs": [],
   "source": [
    "# read in the data we scraped, setting the index to the zpid\n",
    "df = pd.read_csv('comps.csv').set_index('zpid')\n",
    "df.drop(columns='Unnamed: 0',inplace=True)"
   ]
  },
  {
   "cell_type": "code",
   "execution_count": 85,
   "metadata": {},
   "outputs": [
    {
     "data": {
      "text/plain": [
       "Index(['address', 'zipcode', 'latitude', 'longitude', 'beds', 'baths', 'area',\n",
       "       'dateSold', 'yearBuilt', 'lotSize', 'zestimate', 'sellingPrice',\n",
       "       'sellerAgent', 'sellerAgentUrl', 'buyerAgent', 'buyerAgentUrl',\n",
       "       'listedAt', 'firstListingPrice', 'timesListed', 'zEstimate_at_listing',\n",
       "       'zEstimate_date', 'url'],\n",
       "      dtype='object')"
      ]
     },
     "execution_count": 85,
     "metadata": {},
     "output_type": "execute_result"
    }
   ],
   "source": [
    "df.columns"
   ]
  },
  {
   "cell_type": "code",
   "execution_count": 86,
   "metadata": {},
   "outputs": [],
   "source": [
    "# convert date columns to dates\n",
    "df['dateSold'] = pd.to_datetime(df['dateSold']).dt.date\n",
    "df['listedAt'] = pd.to_datetime(df['listedAt']).dt.date\n",
    "df['yearSold'] = df['dateSold'].apply(lambda x: x.year)"
   ]
  },
  {
   "cell_type": "code",
   "execution_count": 87,
   "metadata": {},
   "outputs": [],
   "source": [
    "# add some features\n",
    "df['zEstimate ratio'] = df['sellingPrice']/df['zEstimate_at_listing']\n",
    "df['listing ratio'] = df['sellingPrice']/df['firstListingPrice']\n",
    "df['days to sell'] = (df['dateSold']-df['listedAt']).dt.days\n",
    "df['price per sf'] = df['sellingPrice']/df['area']"
   ]
  },
  {
   "cell_type": "code",
   "execution_count": 88,
   "metadata": {},
   "outputs": [
    {
     "data": {
      "text/html": [
       "<div>\n",
       "<style scoped>\n",
       "    .dataframe tbody tr th:only-of-type {\n",
       "        vertical-align: middle;\n",
       "    }\n",
       "\n",
       "    .dataframe tbody tr th {\n",
       "        vertical-align: top;\n",
       "    }\n",
       "\n",
       "    .dataframe thead th {\n",
       "        text-align: right;\n",
       "    }\n",
       "</style>\n",
       "<table border=\"1\" class=\"dataframe\">\n",
       "  <thead>\n",
       "    <tr style=\"text-align: right;\">\n",
       "      <th></th>\n",
       "      <th>zipcode</th>\n",
       "      <th>latitude</th>\n",
       "      <th>longitude</th>\n",
       "      <th>beds</th>\n",
       "      <th>baths</th>\n",
       "      <th>area</th>\n",
       "      <th>yearBuilt</th>\n",
       "      <th>lotSize</th>\n",
       "      <th>zestimate</th>\n",
       "      <th>sellingPrice</th>\n",
       "      <th>firstListingPrice</th>\n",
       "      <th>timesListed</th>\n",
       "      <th>zEstimate_at_listing</th>\n",
       "      <th>yearSold</th>\n",
       "      <th>zEstimate ratio</th>\n",
       "      <th>listing ratio</th>\n",
       "      <th>days to sell</th>\n",
       "      <th>price per sf</th>\n",
       "    </tr>\n",
       "  </thead>\n",
       "  <tbody>\n",
       "    <tr>\n",
       "      <th>count</th>\n",
       "      <td>371.000000</td>\n",
       "      <td>371.000000</td>\n",
       "      <td>371.000000</td>\n",
       "      <td>371.000000</td>\n",
       "      <td>370.000000</td>\n",
       "      <td>371.000000</td>\n",
       "      <td>371.000000</td>\n",
       "      <td>371.000000</td>\n",
       "      <td>3.700000e+02</td>\n",
       "      <td>3.710000e+02</td>\n",
       "      <td>3.260000e+02</td>\n",
       "      <td>371.000000</td>\n",
       "      <td>3.700000e+02</td>\n",
       "      <td>371.000000</td>\n",
       "      <td>370.000000</td>\n",
       "      <td>326.000000</td>\n",
       "      <td>326.000000</td>\n",
       "      <td>371.000000</td>\n",
       "    </tr>\n",
       "    <tr>\n",
       "      <th>mean</th>\n",
       "      <td>94062.700809</td>\n",
       "      <td>37.468741</td>\n",
       "      <td>-122.257547</td>\n",
       "      <td>3.859838</td>\n",
       "      <td>3.270946</td>\n",
       "      <td>2756.714286</td>\n",
       "      <td>1957.614555</td>\n",
       "      <td>14533.959569</td>\n",
       "      <td>2.442315e+06</td>\n",
       "      <td>2.474591e+06</td>\n",
       "      <td>2.443018e+06</td>\n",
       "      <td>0.951482</td>\n",
       "      <td>2.399295e+06</td>\n",
       "      <td>2018.401617</td>\n",
       "      <td>1.058250</td>\n",
       "      <td>1.026278</td>\n",
       "      <td>67.202454</td>\n",
       "      <td>954.992293</td>\n",
       "    </tr>\n",
       "    <tr>\n",
       "      <th>std</th>\n",
       "      <td>2.678135</td>\n",
       "      <td>0.011096</td>\n",
       "      <td>0.013183</td>\n",
       "      <td>0.765315</td>\n",
       "      <td>0.963634</td>\n",
       "      <td>888.390494</td>\n",
       "      <td>146.461783</td>\n",
       "      <td>14860.918327</td>\n",
       "      <td>4.529166e+05</td>\n",
       "      <td>4.124915e+05</td>\n",
       "      <td>4.929351e+05</td>\n",
       "      <td>0.438445</td>\n",
       "      <td>5.408213e+05</td>\n",
       "      <td>0.902188</td>\n",
       "      <td>0.187090</td>\n",
       "      <td>0.119898</td>\n",
       "      <td>52.864431</td>\n",
       "      <td>249.877025</td>\n",
       "    </tr>\n",
       "    <tr>\n",
       "      <th>min</th>\n",
       "      <td>94061.000000</td>\n",
       "      <td>37.443840</td>\n",
       "      <td>-122.289077</td>\n",
       "      <td>1.000000</td>\n",
       "      <td>1.000000</td>\n",
       "      <td>640.000000</td>\n",
       "      <td>-1.000000</td>\n",
       "      <td>-1.000000</td>\n",
       "      <td>1.101590e+06</td>\n",
       "      <td>2.000000e+06</td>\n",
       "      <td>1.349000e+06</td>\n",
       "      <td>0.000000</td>\n",
       "      <td>1.117838e+06</td>\n",
       "      <td>2017.000000</td>\n",
       "      <td>0.605160</td>\n",
       "      <td>0.687813</td>\n",
       "      <td>8.000000</td>\n",
       "      <td>244.491575</td>\n",
       "    </tr>\n",
       "    <tr>\n",
       "      <th>25%</th>\n",
       "      <td>94062.000000</td>\n",
       "      <td>37.459940</td>\n",
       "      <td>-122.267209</td>\n",
       "      <td>3.000000</td>\n",
       "      <td>3.000000</td>\n",
       "      <td>2130.000000</td>\n",
       "      <td>1950.500000</td>\n",
       "      <td>7348.000000</td>\n",
       "      <td>2.101136e+06</td>\n",
       "      <td>2.150000e+06</td>\n",
       "      <td>2.081250e+06</td>\n",
       "      <td>1.000000</td>\n",
       "      <td>2.017146e+06</td>\n",
       "      <td>2018.000000</td>\n",
       "      <td>0.938971</td>\n",
       "      <td>0.947006</td>\n",
       "      <td>34.000000</td>\n",
       "      <td>804.909401</td>\n",
       "    </tr>\n",
       "    <tr>\n",
       "      <th>50%</th>\n",
       "      <td>94062.000000</td>\n",
       "      <td>37.469038</td>\n",
       "      <td>-122.257941</td>\n",
       "      <td>4.000000</td>\n",
       "      <td>3.000000</td>\n",
       "      <td>2630.000000</td>\n",
       "      <td>1964.000000</td>\n",
       "      <td>10001.000000</td>\n",
       "      <td>2.346724e+06</td>\n",
       "      <td>2.365000e+06</td>\n",
       "      <td>2.388000e+06</td>\n",
       "      <td>1.000000</td>\n",
       "      <td>2.301331e+06</td>\n",
       "      <td>2018.000000</td>\n",
       "      <td>1.039822</td>\n",
       "      <td>1.004326</td>\n",
       "      <td>46.000000</td>\n",
       "      <td>926.086957</td>\n",
       "    </tr>\n",
       "    <tr>\n",
       "      <th>75%</th>\n",
       "      <td>94062.000000</td>\n",
       "      <td>37.479229</td>\n",
       "      <td>-122.247463</td>\n",
       "      <td>4.000000</td>\n",
       "      <td>4.000000</td>\n",
       "      <td>3194.500000</td>\n",
       "      <td>1987.000000</td>\n",
       "      <td>16223.000000</td>\n",
       "      <td>2.688632e+06</td>\n",
       "      <td>2.750000e+06</td>\n",
       "      <td>2.746500e+06</td>\n",
       "      <td>1.000000</td>\n",
       "      <td>2.714198e+06</td>\n",
       "      <td>2019.000000</td>\n",
       "      <td>1.143315</td>\n",
       "      <td>1.088255</td>\n",
       "      <td>81.000000</td>\n",
       "      <td>1081.585317</td>\n",
       "    </tr>\n",
       "    <tr>\n",
       "      <th>max</th>\n",
       "      <td>94070.000000</td>\n",
       "      <td>37.486600</td>\n",
       "      <td>-122.229919</td>\n",
       "      <td>6.000000</td>\n",
       "      <td>8.000000</td>\n",
       "      <td>8487.000000</td>\n",
       "      <td>2019.000000</td>\n",
       "      <td>175546.000000</td>\n",
       "      <td>4.456948e+06</td>\n",
       "      <td>3.500000e+06</td>\n",
       "      <td>4.295000e+06</td>\n",
       "      <td>2.000000</td>\n",
       "      <td>4.514336e+06</td>\n",
       "      <td>2020.000000</td>\n",
       "      <td>2.078119</td>\n",
       "      <td>1.704225</td>\n",
       "      <td>266.000000</td>\n",
       "      <td>3437.500000</td>\n",
       "    </tr>\n",
       "  </tbody>\n",
       "</table>\n",
       "</div>"
      ],
      "text/plain": [
       "            zipcode    latitude   longitude        beds       baths  \\\n",
       "count    371.000000  371.000000  371.000000  371.000000  370.000000   \n",
       "mean   94062.700809   37.468741 -122.257547    3.859838    3.270946   \n",
       "std        2.678135    0.011096    0.013183    0.765315    0.963634   \n",
       "min    94061.000000   37.443840 -122.289077    1.000000    1.000000   \n",
       "25%    94062.000000   37.459940 -122.267209    3.000000    3.000000   \n",
       "50%    94062.000000   37.469038 -122.257941    4.000000    3.000000   \n",
       "75%    94062.000000   37.479229 -122.247463    4.000000    4.000000   \n",
       "max    94070.000000   37.486600 -122.229919    6.000000    8.000000   \n",
       "\n",
       "              area    yearBuilt        lotSize     zestimate  sellingPrice  \\\n",
       "count   371.000000   371.000000     371.000000  3.700000e+02  3.710000e+02   \n",
       "mean   2756.714286  1957.614555   14533.959569  2.442315e+06  2.474591e+06   \n",
       "std     888.390494   146.461783   14860.918327  4.529166e+05  4.124915e+05   \n",
       "min     640.000000    -1.000000      -1.000000  1.101590e+06  2.000000e+06   \n",
       "25%    2130.000000  1950.500000    7348.000000  2.101136e+06  2.150000e+06   \n",
       "50%    2630.000000  1964.000000   10001.000000  2.346724e+06  2.365000e+06   \n",
       "75%    3194.500000  1987.000000   16223.000000  2.688632e+06  2.750000e+06   \n",
       "max    8487.000000  2019.000000  175546.000000  4.456948e+06  3.500000e+06   \n",
       "\n",
       "       firstListingPrice  timesListed  zEstimate_at_listing     yearSold  \\\n",
       "count       3.260000e+02   371.000000          3.700000e+02   371.000000   \n",
       "mean        2.443018e+06     0.951482          2.399295e+06  2018.401617   \n",
       "std         4.929351e+05     0.438445          5.408213e+05     0.902188   \n",
       "min         1.349000e+06     0.000000          1.117838e+06  2017.000000   \n",
       "25%         2.081250e+06     1.000000          2.017146e+06  2018.000000   \n",
       "50%         2.388000e+06     1.000000          2.301331e+06  2018.000000   \n",
       "75%         2.746500e+06     1.000000          2.714198e+06  2019.000000   \n",
       "max         4.295000e+06     2.000000          4.514336e+06  2020.000000   \n",
       "\n",
       "       zEstimate ratio  listing ratio  days to sell  price per sf  \n",
       "count       370.000000     326.000000    326.000000    371.000000  \n",
       "mean          1.058250       1.026278     67.202454    954.992293  \n",
       "std           0.187090       0.119898     52.864431    249.877025  \n",
       "min           0.605160       0.687813      8.000000    244.491575  \n",
       "25%           0.938971       0.947006     34.000000    804.909401  \n",
       "50%           1.039822       1.004326     46.000000    926.086957  \n",
       "75%           1.143315       1.088255     81.000000   1081.585317  \n",
       "max           2.078119       1.704225    266.000000   3437.500000  "
      ]
     },
     "execution_count": 88,
     "metadata": {},
     "output_type": "execute_result"
    }
   ],
   "source": [
    "df.describe()"
   ]
  },
  {
   "cell_type": "markdown",
   "metadata": {},
   "source": [
    "Pivot the data by *sellerAgent* and sort by most sales (descending) to identify top candidates. We're particularly interested in the *zEstimate ratio* which is the ratio of the selling price to the *zEstimate* which was published just prior to the house being listed (there's evidence in the data that the *zEstimate* is impacted by a the act of listing a house)."
   ]
  },
  {
   "cell_type": "code",
   "execution_count": 91,
   "metadata": {},
   "outputs": [
    {
     "data": {
      "text/html": [
       "<div>\n",
       "<style scoped>\n",
       "    .dataframe tbody tr th:only-of-type {\n",
       "        vertical-align: middle;\n",
       "    }\n",
       "\n",
       "    .dataframe tbody tr th {\n",
       "        vertical-align: top;\n",
       "    }\n",
       "\n",
       "    .dataframe thead th {\n",
       "        text-align: right;\n",
       "    }\n",
       "</style>\n",
       "<table border=\"1\" class=\"dataframe\">\n",
       "  <thead>\n",
       "    <tr style=\"text-align: right;\">\n",
       "      <th></th>\n",
       "      <th>Most recent sale</th>\n",
       "      <th>days to sell</th>\n",
       "      <th>listing ratio</th>\n",
       "      <th>price per sf</th>\n",
       "      <th>sellingPrice</th>\n",
       "      <th>zEstimate ratio</th>\n",
       "      <th>sales</th>\n",
       "    </tr>\n",
       "    <tr>\n",
       "      <th>sellerAgent</th>\n",
       "      <th></th>\n",
       "      <th></th>\n",
       "      <th></th>\n",
       "      <th></th>\n",
       "      <th></th>\n",
       "      <th></th>\n",
       "      <th></th>\n",
       "    </tr>\n",
       "  </thead>\n",
       "  <tbody>\n",
       "    <tr>\n",
       "      <th>John Shroyer</th>\n",
       "      <td>2020-05-18</td>\n",
       "      <td>90.777778</td>\n",
       "      <td>1.003955</td>\n",
       "      <td>913.051302</td>\n",
       "      <td>2.485250e+06</td>\n",
       "      <td>1.012065</td>\n",
       "      <td>21</td>\n",
       "    </tr>\n",
       "    <tr>\n",
       "      <th>Vicky Costantini</th>\n",
       "      <td>2020-03-31</td>\n",
       "      <td>81.125000</td>\n",
       "      <td>0.987836</td>\n",
       "      <td>928.717427</td>\n",
       "      <td>2.338542e+06</td>\n",
       "      <td>0.993955</td>\n",
       "      <td>10</td>\n",
       "    </tr>\n",
       "    <tr>\n",
       "      <th>Alex Lehr</th>\n",
       "      <td>2019-11-04</td>\n",
       "      <td>53.714286</td>\n",
       "      <td>1.021900</td>\n",
       "      <td>829.662288</td>\n",
       "      <td>2.386000e+06</td>\n",
       "      <td>1.032605</td>\n",
       "      <td>8</td>\n",
       "    </tr>\n",
       "    <tr>\n",
       "      <th>DeLeon Team</th>\n",
       "      <td>2019-11-26</td>\n",
       "      <td>53.571429</td>\n",
       "      <td>1.043718</td>\n",
       "      <td>1028.968548</td>\n",
       "      <td>2.751429e+06</td>\n",
       "      <td>1.017317</td>\n",
       "      <td>7</td>\n",
       "    </tr>\n",
       "    <tr>\n",
       "      <th>Sam Anagnostou</th>\n",
       "      <td>2019-03-28</td>\n",
       "      <td>62.166667</td>\n",
       "      <td>0.962691</td>\n",
       "      <td>843.892199</td>\n",
       "      <td>2.663571e+06</td>\n",
       "      <td>0.970424</td>\n",
       "      <td>7</td>\n",
       "    </tr>\n",
       "    <tr>\n",
       "      <th>David Young</th>\n",
       "      <td>2019-09-10</td>\n",
       "      <td>66.714286</td>\n",
       "      <td>1.091236</td>\n",
       "      <td>978.235441</td>\n",
       "      <td>2.217857e+06</td>\n",
       "      <td>1.093899</td>\n",
       "      <td>7</td>\n",
       "    </tr>\n",
       "    <tr>\n",
       "      <th>Pam Tyson</th>\n",
       "      <td>2020-02-21</td>\n",
       "      <td>135.666667</td>\n",
       "      <td>0.944210</td>\n",
       "      <td>869.944502</td>\n",
       "      <td>2.266667e+06</td>\n",
       "      <td>1.107467</td>\n",
       "      <td>6</td>\n",
       "    </tr>\n",
       "    <tr>\n",
       "      <th>Team Bedbury</th>\n",
       "      <td>2019-07-30</td>\n",
       "      <td>40.000000</td>\n",
       "      <td>1.024596</td>\n",
       "      <td>770.958209</td>\n",
       "      <td>2.454000e+06</td>\n",
       "      <td>0.966357</td>\n",
       "      <td>5</td>\n",
       "    </tr>\n",
       "    <tr>\n",
       "      <th>Joyce Romeo</th>\n",
       "      <td>2018-06-11</td>\n",
       "      <td>32.250000</td>\n",
       "      <td>1.058784</td>\n",
       "      <td>1026.338696</td>\n",
       "      <td>2.647000e+06</td>\n",
       "      <td>1.061448</td>\n",
       "      <td>5</td>\n",
       "    </tr>\n",
       "    <tr>\n",
       "      <th>Alex Wang</th>\n",
       "      <td>2020-04-24</td>\n",
       "      <td>29.333333</td>\n",
       "      <td>1.057788</td>\n",
       "      <td>969.691017</td>\n",
       "      <td>2.959267e+06</td>\n",
       "      <td>1.089425</td>\n",
       "      <td>3</td>\n",
       "    </tr>\n",
       "    <tr>\n",
       "      <th>Lucy Goldenshteyn</th>\n",
       "      <td>2019-08-28</td>\n",
       "      <td>106.000000</td>\n",
       "      <td>0.910336</td>\n",
       "      <td>725.501508</td>\n",
       "      <td>2.226000e+06</td>\n",
       "      <td>0.866085</td>\n",
       "      <td>3</td>\n",
       "    </tr>\n",
       "    <tr>\n",
       "      <th>Laura Bertolacci</th>\n",
       "      <td>2019-11-27</td>\n",
       "      <td>41.333333</td>\n",
       "      <td>1.002677</td>\n",
       "      <td>1089.800177</td>\n",
       "      <td>2.596000e+06</td>\n",
       "      <td>1.366933</td>\n",
       "      <td>3</td>\n",
       "    </tr>\n",
       "    <tr>\n",
       "      <th>Danny Burgess</th>\n",
       "      <td>2019-10-25</td>\n",
       "      <td>53.000000</td>\n",
       "      <td>1.027919</td>\n",
       "      <td>1123.692490</td>\n",
       "      <td>2.691667e+06</td>\n",
       "      <td>1.120771</td>\n",
       "      <td>3</td>\n",
       "    </tr>\n",
       "    <tr>\n",
       "      <th>Lena Griffin</th>\n",
       "      <td>2019-06-07</td>\n",
       "      <td>165.666667</td>\n",
       "      <td>1.442120</td>\n",
       "      <td>1121.210738</td>\n",
       "      <td>2.628333e+06</td>\n",
       "      <td>1.412405</td>\n",
       "      <td>3</td>\n",
       "    </tr>\n",
       "    <tr>\n",
       "      <th>Debbie Sharp</th>\n",
       "      <td>2019-11-01</td>\n",
       "      <td>78.333333</td>\n",
       "      <td>1.033677</td>\n",
       "      <td>899.880723</td>\n",
       "      <td>2.540000e+06</td>\n",
       "      <td>1.065659</td>\n",
       "      <td>3</td>\n",
       "    </tr>\n",
       "    <tr>\n",
       "      <th>Chuck Gillooley</th>\n",
       "      <td>2019-06-13</td>\n",
       "      <td>44.333333</td>\n",
       "      <td>0.997322</td>\n",
       "      <td>924.605625</td>\n",
       "      <td>2.625000e+06</td>\n",
       "      <td>1.008755</td>\n",
       "      <td>3</td>\n",
       "    </tr>\n",
       "    <tr>\n",
       "      <th>Kathy Zmay</th>\n",
       "      <td>2019-04-08</td>\n",
       "      <td>119.000000</td>\n",
       "      <td>0.965334</td>\n",
       "      <td>909.641911</td>\n",
       "      <td>2.283333e+06</td>\n",
       "      <td>1.038646</td>\n",
       "      <td>3</td>\n",
       "    </tr>\n",
       "    <tr>\n",
       "      <th>DiPali Shah</th>\n",
       "      <td>2019-06-04</td>\n",
       "      <td>77.000000</td>\n",
       "      <td>1.044373</td>\n",
       "      <td>951.489143</td>\n",
       "      <td>2.226667e+06</td>\n",
       "      <td>1.070487</td>\n",
       "      <td>3</td>\n",
       "    </tr>\n",
       "    <tr>\n",
       "      <th>Milana Ostroy</th>\n",
       "      <td>2020-02-28</td>\n",
       "      <td>102.500000</td>\n",
       "      <td>0.982279</td>\n",
       "      <td>1018.251627</td>\n",
       "      <td>2.716500e+06</td>\n",
       "      <td>1.084045</td>\n",
       "      <td>2</td>\n",
       "    </tr>\n",
       "    <tr>\n",
       "      <th>Michelle Glaubert</th>\n",
       "      <td>2018-03-13</td>\n",
       "      <td>29.000000</td>\n",
       "      <td>1.106551</td>\n",
       "      <td>828.395346</td>\n",
       "      <td>2.417500e+06</td>\n",
       "      <td>1.018963</td>\n",
       "      <td>2</td>\n",
       "    </tr>\n",
       "  </tbody>\n",
       "</table>\n",
       "</div>"
      ],
      "text/plain": [
       "                  Most recent sale  days to sell  listing ratio  price per sf  \\\n",
       "sellerAgent                                                                     \n",
       "John Shroyer            2020-05-18     90.777778       1.003955    913.051302   \n",
       "Vicky Costantini        2020-03-31     81.125000       0.987836    928.717427   \n",
       "Alex Lehr               2019-11-04     53.714286       1.021900    829.662288   \n",
       "DeLeon Team             2019-11-26     53.571429       1.043718   1028.968548   \n",
       "Sam Anagnostou          2019-03-28     62.166667       0.962691    843.892199   \n",
       "David Young             2019-09-10     66.714286       1.091236    978.235441   \n",
       "Pam Tyson               2020-02-21    135.666667       0.944210    869.944502   \n",
       "Team Bedbury            2019-07-30     40.000000       1.024596    770.958209   \n",
       "Joyce Romeo             2018-06-11     32.250000       1.058784   1026.338696   \n",
       "Alex Wang               2020-04-24     29.333333       1.057788    969.691017   \n",
       "Lucy Goldenshteyn       2019-08-28    106.000000       0.910336    725.501508   \n",
       "Laura Bertolacci        2019-11-27     41.333333       1.002677   1089.800177   \n",
       "Danny Burgess           2019-10-25     53.000000       1.027919   1123.692490   \n",
       "Lena Griffin            2019-06-07    165.666667       1.442120   1121.210738   \n",
       "Debbie Sharp            2019-11-01     78.333333       1.033677    899.880723   \n",
       "Chuck Gillooley         2019-06-13     44.333333       0.997322    924.605625   \n",
       "Kathy Zmay              2019-04-08    119.000000       0.965334    909.641911   \n",
       "DiPali Shah             2019-06-04     77.000000       1.044373    951.489143   \n",
       "Milana Ostroy           2020-02-28    102.500000       0.982279   1018.251627   \n",
       "Michelle Glaubert       2018-03-13     29.000000       1.106551    828.395346   \n",
       "\n",
       "                   sellingPrice  zEstimate ratio  sales  \n",
       "sellerAgent                                              \n",
       "John Shroyer       2.485250e+06         1.012065     21  \n",
       "Vicky Costantini   2.338542e+06         0.993955     10  \n",
       "Alex Lehr          2.386000e+06         1.032605      8  \n",
       "DeLeon Team        2.751429e+06         1.017317      7  \n",
       "Sam Anagnostou     2.663571e+06         0.970424      7  \n",
       "David Young        2.217857e+06         1.093899      7  \n",
       "Pam Tyson          2.266667e+06         1.107467      6  \n",
       "Team Bedbury       2.454000e+06         0.966357      5  \n",
       "Joyce Romeo        2.647000e+06         1.061448      5  \n",
       "Alex Wang          2.959267e+06         1.089425      3  \n",
       "Lucy Goldenshteyn  2.226000e+06         0.866085      3  \n",
       "Laura Bertolacci   2.596000e+06         1.366933      3  \n",
       "Danny Burgess      2.691667e+06         1.120771      3  \n",
       "Lena Griffin       2.628333e+06         1.412405      3  \n",
       "Debbie Sharp       2.540000e+06         1.065659      3  \n",
       "Chuck Gillooley    2.625000e+06         1.008755      3  \n",
       "Kathy Zmay         2.283333e+06         1.038646      3  \n",
       "DiPali Shah        2.226667e+06         1.070487      3  \n",
       "Milana Ostroy      2.716500e+06         1.084045      2  \n",
       "Michelle Glaubert  2.417500e+06         1.018963      2  "
      ]
     },
     "execution_count": 91,
     "metadata": {},
     "output_type": "execute_result"
    }
   ],
   "source": [
    "df.pivot_table(\n",
    "    index='sellerAgent',\n",
    "    aggfunc={\n",
    "       'zipcode': 'count',\n",
    "       'zEstimate ratio': np.mean,\n",
    "       'listing ratio': np.mean,\n",
    "       'days to sell': np.mean,\n",
    "       'sellingPrice': np.mean,\n",
    "       'dateSold': max,\n",
    "       'price per sf': np.mean\n",
    "    }).rename(columns={'zipcode': 'sales', 'dateSold': 'Most recent sale'})\\\n",
    "    .sort_values(by='sales',ascending=False).head(20)"
   ]
  },
  {
   "cell_type": "markdown",
   "metadata": {},
   "source": [
    "Two agents stand out in the list above, *Laura Bertolacci* and *Lena Griffin*. They managed to get 32% and 41% uplifts respectively over Zillow's *zEstimate* that existed just prior to listing. Laura has 4 sales in our filter criteria while Lena has 3. However Laura sold her houses in an average of 48 days whereas Lena took 165 days.\n",
    "\n",
    "It's interesting that I recognize two of the names on this list - Sam Anagnostou (friend of a friend) and Michelle Glaubert who was the original selling agent on the house we're now trying to sell. Sam has 6 transactions but he's only getting 97% of the zEstimate. Michelle has 2 and is getting 102% of the zEstimate (but with a 29 day sales cycle which is very quick). Michelle unfortunately hasn't sold a house in this range since March 2018."
   ]
  },
  {
   "cell_type": "markdown",
   "metadata": {},
   "source": [
    "Most realtors in our list only had one sale that met our filter criteria. This is apparent from the distribution of sales/realtor:"
   ]
  },
  {
   "cell_type": "code",
   "execution_count": 92,
   "metadata": {},
   "outputs": [
    {
     "data": {
      "image/png": "[encoded data removed]",
      "text/plain": [
       "<Figure size 432x288 with 1 Axes>"
      ]
     },
     "metadata": {
      "needs_background": "light"
     },
     "output_type": "display_data"
    }
   ],
   "source": [
    "sns.distplot(df.pivot_table(index='sellerAgent',aggfunc={'zipcode': 'count'}))\n",
    "plt.ylabel('Realtors')\n",
    "plt.xlabel('Sales');"
   ]
  },
  {
   "cell_type": "markdown",
   "metadata": {},
   "source": [
    "Let's look at Laura and Lena's transactions in detail:"
   ]
  },
  {
   "cell_type": "code",
   "execution_count": 93,
   "metadata": {},
   "outputs": [
    {
     "data": {
      "text/html": [
       "<div>\n",
       "<style scoped>\n",
       "    .dataframe tbody tr th:only-of-type {\n",
       "        vertical-align: middle;\n",
       "    }\n",
       "\n",
       "    .dataframe tbody tr th {\n",
       "        vertical-align: top;\n",
       "    }\n",
       "\n",
       "    .dataframe thead th {\n",
       "        text-align: right;\n",
       "    }\n",
       "</style>\n",
       "<table border=\"1\" class=\"dataframe\">\n",
       "  <thead>\n",
       "    <tr style=\"text-align: right;\">\n",
       "      <th></th>\n",
       "      <th>address</th>\n",
       "      <th>zipcode</th>\n",
       "      <th>latitude</th>\n",
       "      <th>longitude</th>\n",
       "      <th>beds</th>\n",
       "      <th>baths</th>\n",
       "      <th>area</th>\n",
       "      <th>dateSold</th>\n",
       "      <th>yearBuilt</th>\n",
       "      <th>lotSize</th>\n",
       "      <th>zestimate</th>\n",
       "      <th>sellingPrice</th>\n",
       "      <th>sellerAgent</th>\n",
       "      <th>sellerAgentUrl</th>\n",
       "      <th>buyerAgent</th>\n",
       "      <th>buyerAgentUrl</th>\n",
       "      <th>listedAt</th>\n",
       "      <th>firstListingPrice</th>\n",
       "      <th>timesListed</th>\n",
       "      <th>zEstimate_at_listing</th>\n",
       "      <th>zEstimate_date</th>\n",
       "      <th>url</th>\n",
       "      <th>yearSold</th>\n",
       "      <th>zEstimate ratio</th>\n",
       "      <th>listing ratio</th>\n",
       "      <th>days to sell</th>\n",
       "      <th>price per sf</th>\n",
       "    </tr>\n",
       "    <tr>\n",
       "      <th>zpid</th>\n",
       "      <th></th>\n",
       "      <th></th>\n",
       "      <th></th>\n",
       "      <th></th>\n",
       "      <th></th>\n",
       "      <th></th>\n",
       "      <th></th>\n",
       "      <th></th>\n",
       "      <th></th>\n",
       "      <th></th>\n",
       "      <th></th>\n",
       "      <th></th>\n",
       "      <th></th>\n",
       "      <th></th>\n",
       "      <th></th>\n",
       "      <th></th>\n",
       "      <th></th>\n",
       "      <th></th>\n",
       "      <th></th>\n",
       "      <th></th>\n",
       "      <th></th>\n",
       "      <th></th>\n",
       "      <th></th>\n",
       "      <th></th>\n",
       "      <th></th>\n",
       "      <th></th>\n",
       "      <th></th>\n",
       "    </tr>\n",
       "  </thead>\n",
       "  <tbody>\n",
       "    <tr>\n",
       "      <th>15591898</th>\n",
       "      <td>2641 Carolina Ave, Redwood City, CA 94061</td>\n",
       "      <td>94061</td>\n",
       "      <td>37.454586</td>\n",
       "      <td>-122.233151</td>\n",
       "      <td>4</td>\n",
       "      <td>4.0</td>\n",
       "      <td>2020</td>\n",
       "      <td>2019-11-27</td>\n",
       "      <td>1951</td>\n",
       "      <td>6041.0</td>\n",
       "      <td>2235277.0</td>\n",
       "      <td>2328000.0</td>\n",
       "      <td>Laura Bertolacci</td>\n",
       "      <td>https://www.zillow.com/profile/Laura-Bertolacci/</td>\n",
       "      <td>Rachel Ni and Jay Doker</td>\n",
       "      <td>https://www.zillow.com/profile/Jay-Rachel/</td>\n",
       "      <td>2019-10-25</td>\n",
       "      <td>2328000.0</td>\n",
       "      <td>1</td>\n",
       "      <td>1307906.0</td>\n",
       "      <td>2019-09-30</td>\n",
       "      <td>https://www.zillow.com/homedetails/2641-Caroli...</td>\n",
       "      <td>2019</td>\n",
       "      <td>1.779944</td>\n",
       "      <td>1.000000</td>\n",
       "      <td>33.0</td>\n",
       "      <td>1152.475248</td>\n",
       "    </tr>\n",
       "    <tr>\n",
       "      <th>15589710</th>\n",
       "      <td>636 Lakemead Way, Emerald Hills, CA 94062</td>\n",
       "      <td>94062</td>\n",
       "      <td>37.462312</td>\n",
       "      <td>-122.268629</td>\n",
       "      <td>4</td>\n",
       "      <td>2.5</td>\n",
       "      <td>3388</td>\n",
       "      <td>2019-10-25</td>\n",
       "      <td>1988</td>\n",
       "      <td>17450.0</td>\n",
       "      <td>2985860.0</td>\n",
       "      <td>3110000.0</td>\n",
       "      <td>Laura Bertolacci</td>\n",
       "      <td>https://www.zillow.com/profile/Laura-Bertolacci/</td>\n",
       "      <td>Laura Bryant</td>\n",
       "      <td>https://www.zillow.com/profile/Laura-Bryant/</td>\n",
       "      <td>2019-08-30</td>\n",
       "      <td>3200000.0</td>\n",
       "      <td>1</td>\n",
       "      <td>2665524.0</td>\n",
       "      <td>2019-07-31</td>\n",
       "      <td>https://www.zillow.com/homedetails/636-Lakemea...</td>\n",
       "      <td>2019</td>\n",
       "      <td>1.166750</td>\n",
       "      <td>0.971875</td>\n",
       "      <td>56.0</td>\n",
       "      <td>917.945691</td>\n",
       "    </tr>\n",
       "    <tr>\n",
       "      <th>15571679</th>\n",
       "      <td>817 Shepard Way, Redwood City, CA 94062</td>\n",
       "      <td>94062</td>\n",
       "      <td>37.461465</td>\n",
       "      <td>-122.258837</td>\n",
       "      <td>4</td>\n",
       "      <td>3.0</td>\n",
       "      <td>1960</td>\n",
       "      <td>2019-06-14</td>\n",
       "      <td>1969</td>\n",
       "      <td>8568.0</td>\n",
       "      <td>2291492.0</td>\n",
       "      <td>2350000.0</td>\n",
       "      <td>Laura Bertolacci</td>\n",
       "      <td>https://www.zillow.com/profile/Laura-Bertolacci/</td>\n",
       "      <td>Anthony Galli</td>\n",
       "      <td>https://www.zillow.com/profile/Anthony-Galli/</td>\n",
       "      <td>2019-05-10</td>\n",
       "      <td>2268000.0</td>\n",
       "      <td>1</td>\n",
       "      <td>2036211.0</td>\n",
       "      <td>2019-04-30</td>\n",
       "      <td>https://www.zillow.com/homedetails/817-Shepard...</td>\n",
       "      <td>2019</td>\n",
       "      <td>1.154104</td>\n",
       "      <td>1.036155</td>\n",
       "      <td>35.0</td>\n",
       "      <td>1198.979592</td>\n",
       "    </tr>\n",
       "  </tbody>\n",
       "</table>\n",
       "</div>"
      ],
      "text/plain": [
       "                                            address  zipcode   latitude  \\\n",
       "zpid                                                                      \n",
       "15591898  2641 Carolina Ave, Redwood City, CA 94061    94061  37.454586   \n",
       "15589710  636 Lakemead Way, Emerald Hills, CA 94062    94062  37.462312   \n",
       "15571679    817 Shepard Way, Redwood City, CA 94062    94062  37.461465   \n",
       "\n",
       "           longitude  beds  baths  area    dateSold  yearBuilt  lotSize  \\\n",
       "zpid                                                                      \n",
       "15591898 -122.233151     4    4.0  2020  2019-11-27       1951   6041.0   \n",
       "15589710 -122.268629     4    2.5  3388  2019-10-25       1988  17450.0   \n",
       "15571679 -122.258837     4    3.0  1960  2019-06-14       1969   8568.0   \n",
       "\n",
       "          zestimate  sellingPrice       sellerAgent  \\\n",
       "zpid                                                  \n",
       "15591898  2235277.0     2328000.0  Laura Bertolacci   \n",
       "15589710  2985860.0     3110000.0  Laura Bertolacci   \n",
       "15571679  2291492.0     2350000.0  Laura Bertolacci   \n",
       "\n",
       "                                            sellerAgentUrl  \\\n",
       "zpid                                                         \n",
       "15591898  https://www.zillow.com/profile/Laura-Bertolacci/   \n",
       "15589710  https://www.zillow.com/profile/Laura-Bertolacci/   \n",
       "15571679  https://www.zillow.com/profile/Laura-Bertolacci/   \n",
       "\n",
       "                       buyerAgent  \\\n",
       "zpid                                \n",
       "15591898  Rachel Ni and Jay Doker   \n",
       "15589710             Laura Bryant   \n",
       "15571679            Anthony Galli   \n",
       "\n",
       "                                          buyerAgentUrl    listedAt  \\\n",
       "zpid                                                                  \n",
       "15591898     https://www.zillow.com/profile/Jay-Rachel/  2019-10-25   \n",
       "15589710   https://www.zillow.com/profile/Laura-Bryant/  2019-08-30   \n",
       "15571679  https://www.zillow.com/profile/Anthony-Galli/  2019-05-10   \n",
       "\n",
       "          firstListingPrice  timesListed  zEstimate_at_listing zEstimate_date  \\\n",
       "zpid                                                                            \n",
       "15591898          2328000.0            1             1307906.0     2019-09-30   \n",
       "15589710          3200000.0            1             2665524.0     2019-07-31   \n",
       "15571679          2268000.0            1             2036211.0     2019-04-30   \n",
       "\n",
       "                                                        url  yearSold  \\\n",
       "zpid                                                                    \n",
       "15591898  https://www.zillow.com/homedetails/2641-Caroli...      2019   \n",
       "15589710  https://www.zillow.com/homedetails/636-Lakemea...      2019   \n",
       "15571679  https://www.zillow.com/homedetails/817-Shepard...      2019   \n",
       "\n",
       "          zEstimate ratio  listing ratio  days to sell  price per sf  \n",
       "zpid                                                                  \n",
       "15591898         1.779944       1.000000          33.0   1152.475248  \n",
       "15589710         1.166750       0.971875          56.0    917.945691  \n",
       "15571679         1.154104       1.036155          35.0   1198.979592  "
      ]
     },
     "execution_count": 93,
     "metadata": {},
     "output_type": "execute_result"
    }
   ],
   "source": [
    "df[df.sellerAgent=='Laura Bertolacci']"
   ]
  },
  {
   "cell_type": "code",
   "execution_count": 94,
   "metadata": {},
   "outputs": [
    {
     "data": {
      "text/html": [
       "<div>\n",
       "<style scoped>\n",
       "    .dataframe tbody tr th:only-of-type {\n",
       "        vertical-align: middle;\n",
       "    }\n",
       "\n",
       "    .dataframe tbody tr th {\n",
       "        vertical-align: top;\n",
       "    }\n",
       "\n",
       "    .dataframe thead th {\n",
       "        text-align: right;\n",
       "    }\n",
       "</style>\n",
       "<table border=\"1\" class=\"dataframe\">\n",
       "  <thead>\n",
       "    <tr style=\"text-align: right;\">\n",
       "      <th></th>\n",
       "      <th>address</th>\n",
       "      <th>zipcode</th>\n",
       "      <th>latitude</th>\n",
       "      <th>longitude</th>\n",
       "      <th>beds</th>\n",
       "      <th>baths</th>\n",
       "      <th>area</th>\n",
       "      <th>dateSold</th>\n",
       "      <th>yearBuilt</th>\n",
       "      <th>lotSize</th>\n",
       "      <th>zestimate</th>\n",
       "      <th>sellingPrice</th>\n",
       "      <th>sellerAgent</th>\n",
       "      <th>sellerAgentUrl</th>\n",
       "      <th>buyerAgent</th>\n",
       "      <th>buyerAgentUrl</th>\n",
       "      <th>listedAt</th>\n",
       "      <th>firstListingPrice</th>\n",
       "      <th>timesListed</th>\n",
       "      <th>zEstimate_at_listing</th>\n",
       "      <th>zEstimate_date</th>\n",
       "      <th>url</th>\n",
       "      <th>yearSold</th>\n",
       "      <th>zEstimate ratio</th>\n",
       "      <th>listing ratio</th>\n",
       "      <th>days to sell</th>\n",
       "      <th>price per sf</th>\n",
       "    </tr>\n",
       "    <tr>\n",
       "      <th>zpid</th>\n",
       "      <th></th>\n",
       "      <th></th>\n",
       "      <th></th>\n",
       "      <th></th>\n",
       "      <th></th>\n",
       "      <th></th>\n",
       "      <th></th>\n",
       "      <th></th>\n",
       "      <th></th>\n",
       "      <th></th>\n",
       "      <th></th>\n",
       "      <th></th>\n",
       "      <th></th>\n",
       "      <th></th>\n",
       "      <th></th>\n",
       "      <th></th>\n",
       "      <th></th>\n",
       "      <th></th>\n",
       "      <th></th>\n",
       "      <th></th>\n",
       "      <th></th>\n",
       "      <th></th>\n",
       "      <th></th>\n",
       "      <th></th>\n",
       "      <th></th>\n",
       "      <th></th>\n",
       "      <th></th>\n",
       "    </tr>\n",
       "  </thead>\n",
       "  <tbody>\n",
       "    <tr>\n",
       "      <th>15572403</th>\n",
       "      <td>967 Stony Hill Rd, Redwood City, CA 94061</td>\n",
       "      <td>94061</td>\n",
       "      <td>37.457506</td>\n",
       "      <td>-122.252125</td>\n",
       "      <td>4</td>\n",
       "      <td>4.0</td>\n",
       "      <td>2481</td>\n",
       "      <td>2019-06-07</td>\n",
       "      <td>1957</td>\n",
       "      <td>7701.0</td>\n",
       "      <td>2781903.0</td>\n",
       "      <td>2850000.0</td>\n",
       "      <td>Lena Griffin</td>\n",
       "      <td>https://www.zillow.com/profile/LenaGriffin/</td>\n",
       "      <td>Judy Citron</td>\n",
       "      <td>https://www.zillow.com/profile/Judy-Citron/</td>\n",
       "      <td>2019-04-19</td>\n",
       "      <td>2795000.0</td>\n",
       "      <td>1</td>\n",
       "      <td>2083781.0</td>\n",
       "      <td>2019-03-31</td>\n",
       "      <td>https://www.zillow.com/homedetails/967-Stony-H...</td>\n",
       "      <td>2019</td>\n",
       "      <td>1.367706</td>\n",
       "      <td>1.019678</td>\n",
       "      <td>49.0</td>\n",
       "      <td>1148.730351</td>\n",
       "    </tr>\n",
       "    <tr>\n",
       "      <th>15573311</th>\n",
       "      <td>356 Topaz St, Redwood City, CA 94062</td>\n",
       "      <td>94062</td>\n",
       "      <td>37.472862</td>\n",
       "      <td>-122.248638</td>\n",
       "      <td>4</td>\n",
       "      <td>4.0</td>\n",
       "      <td>2024</td>\n",
       "      <td>2017-11-15</td>\n",
       "      <td>1951</td>\n",
       "      <td>7875.0</td>\n",
       "      <td>2450257.0</td>\n",
       "      <td>2410000.0</td>\n",
       "      <td>Lena Griffin</td>\n",
       "      <td>https://www.zillow.com/profile/LenaGriffin/</td>\n",
       "      <td>NaN</td>\n",
       "      <td>NaN</td>\n",
       "      <td>2017-05-11</td>\n",
       "      <td>1495000.0</td>\n",
       "      <td>2</td>\n",
       "      <td>1628781.0</td>\n",
       "      <td>2017-04-30</td>\n",
       "      <td>https://www.zillow.com/homedetails/356-Topaz-S...</td>\n",
       "      <td>2017</td>\n",
       "      <td>1.479634</td>\n",
       "      <td>1.612040</td>\n",
       "      <td>188.0</td>\n",
       "      <td>1190.711462</td>\n",
       "    </tr>\n",
       "    <tr>\n",
       "      <th>15573560</th>\n",
       "      <td>588 Quartz St, Redwood City, CA 94062</td>\n",
       "      <td>94062</td>\n",
       "      <td>37.471868</td>\n",
       "      <td>-122.243155</td>\n",
       "      <td>4</td>\n",
       "      <td>4.0</td>\n",
       "      <td>2563</td>\n",
       "      <td>2017-08-25</td>\n",
       "      <td>1942</td>\n",
       "      <td>8041.0</td>\n",
       "      <td>2769378.0</td>\n",
       "      <td>2625000.0</td>\n",
       "      <td>Lena Griffin</td>\n",
       "      <td>https://www.zillow.com/profile/LenaGriffin/</td>\n",
       "      <td>NaN</td>\n",
       "      <td>NaN</td>\n",
       "      <td>2016-12-08</td>\n",
       "      <td>1549000.0</td>\n",
       "      <td>2</td>\n",
       "      <td>1888660.0</td>\n",
       "      <td>2016-11-30</td>\n",
       "      <td>https://www.zillow.com/homedetails/588-Quartz-...</td>\n",
       "      <td>2017</td>\n",
       "      <td>1.389874</td>\n",
       "      <td>1.694642</td>\n",
       "      <td>260.0</td>\n",
       "      <td>1024.190402</td>\n",
       "    </tr>\n",
       "  </tbody>\n",
       "</table>\n",
       "</div>"
      ],
      "text/plain": [
       "                                            address  zipcode   latitude  \\\n",
       "zpid                                                                      \n",
       "15572403  967 Stony Hill Rd, Redwood City, CA 94061    94061  37.457506   \n",
       "15573311       356 Topaz St, Redwood City, CA 94062    94062  37.472862   \n",
       "15573560      588 Quartz St, Redwood City, CA 94062    94062  37.471868   \n",
       "\n",
       "           longitude  beds  baths  area    dateSold  yearBuilt  lotSize  \\\n",
       "zpid                                                                      \n",
       "15572403 -122.252125     4    4.0  2481  2019-06-07       1957   7701.0   \n",
       "15573311 -122.248638     4    4.0  2024  2017-11-15       1951   7875.0   \n",
       "15573560 -122.243155     4    4.0  2563  2017-08-25       1942   8041.0   \n",
       "\n",
       "          zestimate  sellingPrice   sellerAgent  \\\n",
       "zpid                                              \n",
       "15572403  2781903.0     2850000.0  Lena Griffin   \n",
       "15573311  2450257.0     2410000.0  Lena Griffin   \n",
       "15573560  2769378.0     2625000.0  Lena Griffin   \n",
       "\n",
       "                                       sellerAgentUrl   buyerAgent  \\\n",
       "zpid                                                                 \n",
       "15572403  https://www.zillow.com/profile/LenaGriffin/  Judy Citron   \n",
       "15573311  https://www.zillow.com/profile/LenaGriffin/          NaN   \n",
       "15573560  https://www.zillow.com/profile/LenaGriffin/          NaN   \n",
       "\n",
       "                                        buyerAgentUrl    listedAt  \\\n",
       "zpid                                                                \n",
       "15572403  https://www.zillow.com/profile/Judy-Citron/  2019-04-19   \n",
       "15573311                                          NaN  2017-05-11   \n",
       "15573560                                          NaN  2016-12-08   \n",
       "\n",
       "          firstListingPrice  timesListed  zEstimate_at_listing zEstimate_date  \\\n",
       "zpid                                                                            \n",
       "15572403          2795000.0            1             2083781.0     2019-03-31   \n",
       "15573311          1495000.0            2             1628781.0     2017-04-30   \n",
       "15573560          1549000.0            2             1888660.0     2016-11-30   \n",
       "\n",
       "                                                        url  yearSold  \\\n",
       "zpid                                                                    \n",
       "15572403  https://www.zillow.com/homedetails/967-Stony-H...      2019   \n",
       "15573311  https://www.zillow.com/homedetails/356-Topaz-S...      2017   \n",
       "15573560  https://www.zillow.com/homedetails/588-Quartz-...      2017   \n",
       "\n",
       "          zEstimate ratio  listing ratio  days to sell  price per sf  \n",
       "zpid                                                                  \n",
       "15572403         1.367706       1.019678          49.0   1148.730351  \n",
       "15573311         1.479634       1.612040         188.0   1190.711462  \n",
       "15573560         1.389874       1.694642         260.0   1024.190402  "
      ]
     },
     "execution_count": 94,
     "metadata": {},
     "output_type": "execute_result"
    }
   ],
   "source": [
    "df[df.sellerAgent=='Lena Griffin']"
   ]
  },
  {
   "cell_type": "code",
   "execution_count": 95,
   "metadata": {},
   "outputs": [
    {
     "data": {
      "text/html": [
       "<div style=\"width:100%;\"><div style=\"position:relative;width:100%;height:0;padding-bottom:60%;\"><iframe src=\"about:blank\" style=\"position:absolute;width:100%;height:100%;left:0;top:0;border:none !important;\" data-html=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 onload=\"this.contentDocument.open();this.contentDocument.write(atob(this.getAttribute('data-html')));this.contentDocument.close();\" allowfullscreen webkitallowfullscreen mozallowfullscreen></iframe></div></div>"
      ],
      "text/plain": [
       "<folium.folium.Map at 0x1a24497898>"
      ]
     },
     "execution_count": 95,
     "metadata": {},
     "output_type": "execute_result"
    }
   ],
   "source": [
    "# draw a map of the zEstimate ratio for all the transactions\n",
    "\n",
    "# the map is centered on Sancho's Taqueria out of respect for their fish tacos\n",
    "m = folium.Map([37.4710361,-122.2629159], zoom_start=13)\n",
    "\n",
    "# the heatmap plugin expects either a 2D or 3D array with columns [lat,long(,weight)]\n",
    "# it also can't handle NaNs\n",
    "\n",
    "heatmapdata = np.array(df[['latitude','longitude','zEstimate ratio']].dropna())\n",
    "m.add_child(plugins.HeatMap(heatmapdata, radius=15))\n",
    "m"
   ]
  },
  {
   "cell_type": "markdown",
   "metadata": {},
   "source": [
    "Recall that this is the map we started with:\n",
    "![map](Screen%20Shot%202020-06-05%20at%2011.36.45%20PM.png)"
   ]
  },
  {
   "cell_type": "code",
   "execution_count": 96,
   "metadata": {},
   "outputs": [
    {
     "data": {
      "text/html": [
       "<div style=\"width:100%;\"><div style=\"position:relative;width:100%;height:0;padding-bottom:60%;\"><iframe src=\"about:blank\" style=\"position:absolute;width:100%;height:100%;left:0;top:0;border:none !important;\" data-html=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 onload=\"this.contentDocument.open();this.contentDocument.write(atob(this.getAttribute('data-html')));this.contentDocument.close();\" allowfullscreen webkitallowfullscreen mozallowfullscreen></iframe></div></div>"
      ],
      "text/plain": [
       "<folium.folium.Map at 0x1a244bb978>"
      ]
     },
     "execution_count": 96,
     "metadata": {},
     "output_type": "execute_result"
    }
   ],
   "source": [
    "# another heatmap but this time based on selling price\n",
    "# just remember that we've already filtered on selling prices between 2M and 3.5M\n",
    "# so this is not the full picture\n",
    "\n",
    "m = folium.Map([37.4710361,-122.2629159], zoom_start=13)\n",
    "heatmapdata = np.array(df[['latitude','longitude','sellingPrice']].dropna())\n",
    "m.add_child(plugins.HeatMap(heatmapdata, radius=10))\n",
    "m"
   ]
  },
  {
   "cell_type": "code",
   "execution_count": 97,
   "metadata": {},
   "outputs": [
    {
     "data": {
      "image/png": "[encoded data removed]",
      "text/plain": [
       "<Figure size 432x288 with 1 Axes>"
      ]
     },
     "metadata": {
      "needs_background": "light"
     },
     "output_type": "display_data"
    }
   ],
   "source": [
    "# look at the zEstimate ratio x sellingPrice\n",
    "df.plot.scatter(x='sellingPrice',y='zEstimate ratio');"
   ]
  },
  {
   "cell_type": "markdown",
   "metadata": {},
   "source": [
    "This looks reasonably random. Let's try by zipcode:"
   ]
  },
  {
   "cell_type": "code",
   "execution_count": 98,
   "metadata": {},
   "outputs": [
    {
     "data": {
      "image/png": "[encoded data removed]",
      "text/plain": [
       "<Figure size 432x288 with 1 Axes>"
      ]
     },
     "metadata": {
      "needs_background": "light"
     },
     "output_type": "display_data"
    }
   ],
   "source": [
    "df.plot.scatter(x='zipcode',y='zEstimate ratio');"
   ]
  },
  {
   "cell_type": "markdown",
   "metadata": {},
   "source": [
    "Thats not a particularly useful visualization, let's use histograms instead:"
   ]
  },
  {
   "cell_type": "code",
   "execution_count": 99,
   "metadata": {},
   "outputs": [
    {
     "data": {
      "image/png": "[encoded data removed]",
      "text/plain": [
       "<Figure size 432x288 with 1 Axes>"
      ]
     },
     "metadata": {
      "needs_background": "light"
     },
     "output_type": "display_data"
    }
   ],
   "source": [
    "for zc in df.zipcode.unique():\n",
    "    sns.distplot( df.loc[df.zipcode == zc,\"zEstimate ratio\"], label=zc, hist=False)\n",
    "plt.legend();"
   ]
  },
  {
   "cell_type": "markdown",
   "metadata": {},
   "source": [
    "Look at whether houses are selling above or below the original listing price. A listing ratio of 1 means the house sold for the original listing price. Higher than 1 implies multiple offers. Lower than 1 indicates the original listing price was too high to clear the market."
   ]
  },
  {
   "cell_type": "code",
   "execution_count": 100,
   "metadata": {},
   "outputs": [
    {
     "data": {
      "image/png": "[encoded data removed]",
      "text/plain": [
       "<Figure size 432x288 with 1 Axes>"
      ]
     },
     "metadata": {
      "needs_background": "light"
     },
     "output_type": "display_data"
    }
   ],
   "source": [
    "df.plot.scatter(x='sellingPrice',y='listing ratio');"
   ]
  },
  {
   "cell_type": "markdown",
   "metadata": {},
   "source": [
    "There appears to be a bit more upside in selling price/listing price for the lower priced properties."
   ]
  },
  {
   "cell_type": "markdown",
   "metadata": {},
   "source": [
    "Look at the correlation in price and living area:"
   ]
  },
  {
   "cell_type": "code",
   "execution_count": 101,
   "metadata": {},
   "outputs": [
    {
     "data": {
      "image/png": "[encoded data removed]",
      "text/plain": [
       "<Figure size 432x288 with 1 Axes>"
      ]
     },
     "metadata": {
      "needs_background": "light"
     },
     "output_type": "display_data"
    }
   ],
   "source": [
    "df.plot.scatter(x='area',y='sellingPrice');"
   ]
  },
  {
   "cell_type": "markdown",
   "metadata": {},
   "source": [
    "Our property is 3000 sf, how does that compare to the houses being sold in my neighborhood in a similar price range?"
   ]
  },
  {
   "cell_type": "code",
   "execution_count": 102,
   "metadata": {},
   "outputs": [
    {
     "data": {
      "image/png": "[encoded data removed]",
      "text/plain": [
       "<Figure size 432x288 with 1 Axes>"
      ]
     },
     "metadata": {
      "needs_background": "light"
     },
     "output_type": "display_data"
    }
   ],
   "source": [
    "sns.distplot(df['area']);"
   ]
  },
  {
   "cell_type": "markdown",
   "metadata": {},
   "source": [
    "House prices in Silicon Valley are often looked at in terms of price per square foot. Since we have some outliers in that dimension let's just look between \\\\$0 and \\\\$2000/sf."
   ]
  },
  {
   "cell_type": "code",
   "execution_count": 103,
   "metadata": {},
   "outputs": [
    {
     "data": {
      "image/png": "[encoded data removed]",
      "text/plain": [
       "<Figure size 432x288 with 1 Axes>"
      ]
     },
     "metadata": {
      "needs_background": "light"
     },
     "output_type": "display_data"
    }
   ],
   "source": [
    "sns.distplot(df.loc[df['price per sf']<2000,'price per sf']);"
   ]
  },
  {
   "cell_type": "markdown",
   "metadata": {},
   "source": [
    "Since we have several years of data let's look at how this distribution has evolved over time."
   ]
  },
  {
   "cell_type": "code",
   "execution_count": 104,
   "metadata": {},
   "outputs": [
    {
     "data": {
      "image/png": "[encoded data removed]",
      "text/plain": [
       "<Figure size 432x288 with 1 Axes>"
      ]
     },
     "metadata": {
      "needs_background": "light"
     },
     "output_type": "display_data"
    }
   ],
   "source": [
    "for y in df['yearSold'].unique():\n",
    "    sns.distplot( \n",
    "        df.loc[(df.yearSold == y) &\n",
    "        (df['price per sf'] < 2000),'price per sf'], label=y, hist=False)\n",
    "plt.legend();"
   ]
  },
  {
   "cell_type": "markdown",
   "metadata": {},
   "source": [
    "My property is in the 94062 zip code, let's narrow in on that:"
   ]
  },
  {
   "cell_type": "code",
   "execution_count": 105,
   "metadata": {},
   "outputs": [
    {
     "data": {
      "image/png": "[encoded data removed]",
      "text/plain": [
       "<Figure size 432x288 with 1 Axes>"
      ]
     },
     "metadata": {
      "needs_background": "light"
     },
     "output_type": "display_data"
    }
   ],
   "source": [
    "for y in df['yearSold'].unique():\n",
    "    sns.distplot( \n",
    "        df.loc[(df.yearSold == y) & \n",
    "        (df['price per sf'] < 2000) &\n",
    "        (df['zipcode'] == 94062),\"price per sf\"], label=y, hist=False)\n",
    "plt.legend();"
   ]
  },
  {
   "cell_type": "markdown",
   "metadata": {},
   "source": [
    "It appears that prices per square foot rose from 2017 to 2018, dropped very slightly in 2019, and have gone back up in 2020."
   ]
  },
  {
   "cell_type": "markdown",
   "metadata": {},
   "source": [
    "Let's examine price per square foot as a function of year built:"
   ]
  },
  {
   "cell_type": "code",
   "execution_count": 106,
   "metadata": {},
   "outputs": [
    {
     "data": {
      "image/png": "[encoded data removed]",
      "text/plain": [
       "<Figure size 432x288 with 1 Axes>"
      ]
     },
     "metadata": {
      "needs_background": "light"
     },
     "output_type": "display_data"
    }
   ],
   "source": [
    "df.plot.scatter(x='yearBuilt',y='price per sf')\n",
    "plt.xlim(1900,2020)\n",
    "plt.ylim(0,2000);"
   ]
  },
  {
   "cell_type": "markdown",
   "metadata": {},
   "source": [
    "It's easy to see that there are relatively few newer houses in my area, the bulk of construction appears to have happened in the late 1940s and 1990s. We can verify this with another histogram:"
   ]
  },
  {
   "cell_type": "code",
   "execution_count": 107,
   "metadata": {},
   "outputs": [
    {
     "data": {
      "image/png": "[encoded data removed]",
      "text/plain": [
       "<Figure size 432x288 with 1 Axes>"
      ]
     },
     "metadata": {
      "needs_background": "light"
     },
     "output_type": "display_data"
    }
   ],
   "source": [
    "sns.distplot(df.loc[df['yearBuilt']>1900,'yearBuilt']);"
   ]
  },
  {
   "cell_type": "markdown",
   "metadata": {},
   "source": [
    "Now let's look at how long a house stays on the market before it sells."
   ]
  },
  {
   "cell_type": "code",
   "execution_count": 108,
   "metadata": {},
   "outputs": [
    {
     "data": {
      "image/png": "[encoded data removed]",
      "text/plain": [
       "<Figure size 432x288 with 1 Axes>"
      ]
     },
     "metadata": {
      "needs_background": "light"
     },
     "output_type": "display_data"
    }
   ],
   "source": [
    "df.plot.scatter(x='sellingPrice',y='days to sell');"
   ]
  },
  {
   "cell_type": "markdown",
   "metadata": {},
   "source": [
    "Again a histogram is in order:"
   ]
  },
  {
   "cell_type": "code",
   "execution_count": 109,
   "metadata": {},
   "outputs": [
    {
     "data": {
      "image/png": "[encoded data removed]",
      "text/plain": [
       "<Figure size 432x288 with 1 Axes>"
      ]
     },
     "metadata": {
      "needs_background": "light"
     },
     "output_type": "display_data"
    }
   ],
   "source": [
    "sns.distplot(df['days to sell']);"
   ]
  },
  {
   "cell_type": "markdown",
   "metadata": {},
   "source": [
    "And for 94062 only:"
   ]
  },
  {
   "cell_type": "code",
   "execution_count": 110,
   "metadata": {},
   "outputs": [
    {
     "data": {
      "image/png": "[encoded data removed]",
      "text/plain": [
       "<Figure size 432x288 with 1 Axes>"
      ]
     },
     "metadata": {
      "needs_background": "light"
     },
     "output_type": "display_data"
    }
   ],
   "source": [
    "sns.distplot(df.loc[df['zipcode']==94062,'days to sell']);"
   ]
  },
  {
   "cell_type": "markdown",
   "metadata": {},
   "source": [
    "94062 by year"
   ]
  },
  {
   "cell_type": "code",
   "execution_count": 111,
   "metadata": {},
   "outputs": [
    {
     "data": {
      "image/png": "[encoded data removed]",
      "text/plain": [
       "<Figure size 432x288 with 1 Axes>"
      ]
     },
     "metadata": {
      "needs_background": "light"
     },
     "output_type": "display_data"
    }
   ],
   "source": [
    "for y in df['yearSold'].unique():\n",
    "    sns.distplot(df.loc[(df.yearSold == y) & (df['zipcode'] == 94062),'days to sell'],\n",
    "                 label=y, hist=False)\n",
    "plt.xlim(0,180)\n",
    "plt.legend();"
   ]
  },
  {
   "cell_type": "markdown",
   "metadata": {},
   "source": [
    "It's apparent that it's taking a bit longer to sell houses in 2020."
   ]
  },
  {
   "cell_type": "markdown",
   "metadata": {},
   "source": [
    "## Nearest Neighbors\n",
    "Real-estate valuation is usually based on *comparables* - similar houses in the same neighborhood. We can find these based on a normalized euclidian distance between our house and all the other houses. We're not actually trying to cluster, just find the *k* nearest neighbors.\n",
    "\n",
    "The dimensions of interest for computing the euclidian distance are:\n",
    "\n",
    "* beds\n",
    "* baths\n",
    "* area\n",
    "* yearBuilt\n",
    "* lotSize\n",
    "\n",
    "We'll ignore latitude and longitude for now."
   ]
  },
  {
   "cell_type": "code",
   "execution_count": 112,
   "metadata": {},
   "outputs": [
    {
     "data": {
      "text/html": [
       "<div>\n",
       "<style scoped>\n",
       "    .dataframe tbody tr th:only-of-type {\n",
       "        vertical-align: middle;\n",
       "    }\n",
       "\n",
       "    .dataframe tbody tr th {\n",
       "        vertical-align: top;\n",
       "    }\n",
       "\n",
       "    .dataframe thead th {\n",
       "        text-align: right;\n",
       "    }\n",
       "</style>\n",
       "<table border=\"1\" class=\"dataframe\">\n",
       "  <thead>\n",
       "    <tr style=\"text-align: right;\">\n",
       "      <th></th>\n",
       "      <th>beds</th>\n",
       "      <th>baths</th>\n",
       "      <th>area</th>\n",
       "      <th>yearBuilt</th>\n",
       "      <th>lotSize</th>\n",
       "    </tr>\n",
       "  </thead>\n",
       "  <tbody>\n",
       "    <tr>\n",
       "      <th>count</th>\n",
       "      <td>370.000000</td>\n",
       "      <td>370.000000</td>\n",
       "      <td>370.000000</td>\n",
       "      <td>370.000000</td>\n",
       "      <td>370.000000</td>\n",
       "    </tr>\n",
       "    <tr>\n",
       "      <th>mean</th>\n",
       "      <td>3.854054</td>\n",
       "      <td>3.270946</td>\n",
       "      <td>2750.962162</td>\n",
       "      <td>1957.556757</td>\n",
       "      <td>14545.670270</td>\n",
       "    </tr>\n",
       "    <tr>\n",
       "      <th>std</th>\n",
       "      <td>0.758187</td>\n",
       "      <td>0.963634</td>\n",
       "      <td>882.648293</td>\n",
       "      <td>146.655869</td>\n",
       "      <td>14879.327188</td>\n",
       "    </tr>\n",
       "    <tr>\n",
       "      <th>min</th>\n",
       "      <td>1.000000</td>\n",
       "      <td>1.000000</td>\n",
       "      <td>640.000000</td>\n",
       "      <td>-1.000000</td>\n",
       "      <td>-1.000000</td>\n",
       "    </tr>\n",
       "    <tr>\n",
       "      <th>25%</th>\n",
       "      <td>3.000000</td>\n",
       "      <td>3.000000</td>\n",
       "      <td>2125.000000</td>\n",
       "      <td>1950.250000</td>\n",
       "      <td>7348.000000</td>\n",
       "    </tr>\n",
       "    <tr>\n",
       "      <th>50%</th>\n",
       "      <td>4.000000</td>\n",
       "      <td>3.000000</td>\n",
       "      <td>2630.000000</td>\n",
       "      <td>1963.500000</td>\n",
       "      <td>10001.000000</td>\n",
       "    </tr>\n",
       "    <tr>\n",
       "      <th>75%</th>\n",
       "      <td>4.000000</td>\n",
       "      <td>4.000000</td>\n",
       "      <td>3186.750000</td>\n",
       "      <td>1987.000000</td>\n",
       "      <td>16235.000000</td>\n",
       "    </tr>\n",
       "    <tr>\n",
       "      <th>max</th>\n",
       "      <td>6.000000</td>\n",
       "      <td>8.000000</td>\n",
       "      <td>8487.000000</td>\n",
       "      <td>2019.000000</td>\n",
       "      <td>175546.000000</td>\n",
       "    </tr>\n",
       "  </tbody>\n",
       "</table>\n",
       "</div>"
      ],
      "text/plain": [
       "             beds       baths         area    yearBuilt        lotSize\n",
       "count  370.000000  370.000000   370.000000   370.000000     370.000000\n",
       "mean     3.854054    3.270946  2750.962162  1957.556757   14545.670270\n",
       "std      0.758187    0.963634   882.648293   146.655869   14879.327188\n",
       "min      1.000000    1.000000   640.000000    -1.000000      -1.000000\n",
       "25%      3.000000    3.000000  2125.000000  1950.250000    7348.000000\n",
       "50%      4.000000    3.000000  2630.000000  1963.500000   10001.000000\n",
       "75%      4.000000    4.000000  3186.750000  1987.000000   16235.000000\n",
       "max      6.000000    8.000000  8487.000000  2019.000000  175546.000000"
      ]
     },
     "execution_count": 112,
     "metadata": {},
     "output_type": "execute_result"
    }
   ],
   "source": [
    "df_norm = df[['beds','baths','area','yearBuilt','lotSize']].copy().dropna()\n",
    "df_norm.describe()"
   ]
  },
  {
   "cell_type": "code",
   "execution_count": 113,
   "metadata": {},
   "outputs": [
    {
     "data": {
      "text/html": [
       "<div>\n",
       "<style scoped>\n",
       "    .dataframe tbody tr th:only-of-type {\n",
       "        vertical-align: middle;\n",
       "    }\n",
       "\n",
       "    .dataframe tbody tr th {\n",
       "        vertical-align: top;\n",
       "    }\n",
       "\n",
       "    .dataframe thead th {\n",
       "        text-align: right;\n",
       "    }\n",
       "</style>\n",
       "<table border=\"1\" class=\"dataframe\">\n",
       "  <thead>\n",
       "    <tr style=\"text-align: right;\">\n",
       "      <th></th>\n",
       "      <th>beds</th>\n",
       "      <th>baths</th>\n",
       "      <th>area</th>\n",
       "      <th>yearBuilt</th>\n",
       "      <th>lotSize</th>\n",
       "    </tr>\n",
       "    <tr>\n",
       "      <th>zpid</th>\n",
       "      <th></th>\n",
       "      <th></th>\n",
       "      <th></th>\n",
       "      <th></th>\n",
       "      <th></th>\n",
       "    </tr>\n",
       "  </thead>\n",
       "  <tbody>\n",
       "    <tr>\n",
       "      <th>2082824737</th>\n",
       "      <td>4</td>\n",
       "      <td>4.0</td>\n",
       "      <td>1983</td>\n",
       "      <td>-1</td>\n",
       "      <td>-1.0</td>\n",
       "    </tr>\n",
       "    <tr>\n",
       "      <th>249950101</th>\n",
       "      <td>3</td>\n",
       "      <td>1.0</td>\n",
       "      <td>1900</td>\n",
       "      <td>-1</td>\n",
       "      <td>-1.0</td>\n",
       "    </tr>\n",
       "  </tbody>\n",
       "</table>\n",
       "</div>"
      ],
      "text/plain": [
       "            beds  baths  area  yearBuilt  lotSize\n",
       "zpid                                             \n",
       "2082824737     4    4.0  1983         -1     -1.0\n",
       "249950101      3    1.0  1900         -1     -1.0"
      ]
     },
     "execution_count": 113,
     "metadata": {},
     "output_type": "execute_result"
    }
   ],
   "source": [
    "# find the -1 values\n",
    "df_norm.loc[(df_norm.yearBuilt == -1) | (df_norm.lotSize == -1)]"
   ]
  },
  {
   "cell_type": "code",
   "execution_count": 114,
   "metadata": {},
   "outputs": [],
   "source": [
    "df_norm.drop(df_norm.loc[(df_norm.yearBuilt == -1) | (df_norm.lotSize == -1)].index,inplace=True)"
   ]
  },
  {
   "cell_type": "code",
   "execution_count": 115,
   "metadata": {},
   "outputs": [
    {
     "data": {
      "text/html": [
       "<div>\n",
       "<style scoped>\n",
       "    .dataframe tbody tr th:only-of-type {\n",
       "        vertical-align: middle;\n",
       "    }\n",
       "\n",
       "    .dataframe tbody tr th {\n",
       "        vertical-align: top;\n",
       "    }\n",
       "\n",
       "    .dataframe thead th {\n",
       "        text-align: right;\n",
       "    }\n",
       "</style>\n",
       "<table border=\"1\" class=\"dataframe\">\n",
       "  <thead>\n",
       "    <tr style=\"text-align: right;\">\n",
       "      <th></th>\n",
       "      <th>beds</th>\n",
       "      <th>baths</th>\n",
       "      <th>area</th>\n",
       "      <th>yearBuilt</th>\n",
       "      <th>lotSize</th>\n",
       "    </tr>\n",
       "  </thead>\n",
       "  <tbody>\n",
       "    <tr>\n",
       "      <th>count</th>\n",
       "      <td>368.000000</td>\n",
       "      <td>368.000000</td>\n",
       "      <td>368.000000</td>\n",
       "      <td>368.000000</td>\n",
       "      <td>368.000000</td>\n",
       "    </tr>\n",
       "    <tr>\n",
       "      <th>mean</th>\n",
       "      <td>3.855978</td>\n",
       "      <td>3.275136</td>\n",
       "      <td>2755.361413</td>\n",
       "      <td>1968.201087</td>\n",
       "      <td>14624.728261</td>\n",
       "    </tr>\n",
       "    <tr>\n",
       "      <th>std</th>\n",
       "      <td>0.758901</td>\n",
       "      <td>0.958193</td>\n",
       "      <td>883.014207</td>\n",
       "      <td>24.641689</td>\n",
       "      <td>14880.909083</td>\n",
       "    </tr>\n",
       "    <tr>\n",
       "      <th>min</th>\n",
       "      <td>1.000000</td>\n",
       "      <td>1.000000</td>\n",
       "      <td>640.000000</td>\n",
       "      <td>1907.000000</td>\n",
       "      <td>4146.000000</td>\n",
       "    </tr>\n",
       "    <tr>\n",
       "      <th>25%</th>\n",
       "      <td>3.000000</td>\n",
       "      <td>3.000000</td>\n",
       "      <td>2147.500000</td>\n",
       "      <td>1951.000000</td>\n",
       "      <td>7371.250000</td>\n",
       "    </tr>\n",
       "    <tr>\n",
       "      <th>50%</th>\n",
       "      <td>4.000000</td>\n",
       "      <td>3.000000</td>\n",
       "      <td>2640.000000</td>\n",
       "      <td>1964.000000</td>\n",
       "      <td>10005.500000</td>\n",
       "    </tr>\n",
       "    <tr>\n",
       "      <th>75%</th>\n",
       "      <td>4.000000</td>\n",
       "      <td>4.000000</td>\n",
       "      <td>3191.750000</td>\n",
       "      <td>1987.000000</td>\n",
       "      <td>16260.250000</td>\n",
       "    </tr>\n",
       "    <tr>\n",
       "      <th>max</th>\n",
       "      <td>6.000000</td>\n",
       "      <td>8.000000</td>\n",
       "      <td>8487.000000</td>\n",
       "      <td>2019.000000</td>\n",
       "      <td>175546.000000</td>\n",
       "    </tr>\n",
       "  </tbody>\n",
       "</table>\n",
       "</div>"
      ],
      "text/plain": [
       "             beds       baths         area    yearBuilt        lotSize\n",
       "count  368.000000  368.000000   368.000000   368.000000     368.000000\n",
       "mean     3.855978    3.275136  2755.361413  1968.201087   14624.728261\n",
       "std      0.758901    0.958193   883.014207    24.641689   14880.909083\n",
       "min      1.000000    1.000000   640.000000  1907.000000    4146.000000\n",
       "25%      3.000000    3.000000  2147.500000  1951.000000    7371.250000\n",
       "50%      4.000000    3.000000  2640.000000  1964.000000   10005.500000\n",
       "75%      4.000000    4.000000  3191.750000  1987.000000   16260.250000\n",
       "max      6.000000    8.000000  8487.000000  2019.000000  175546.000000"
      ]
     },
     "execution_count": 115,
     "metadata": {},
     "output_type": "execute_result"
    }
   ],
   "source": [
    "df_norm.describe()"
   ]
  },
  {
   "cell_type": "code",
   "execution_count": 116,
   "metadata": {},
   "outputs": [],
   "source": [
    "my_house = {\n",
    "    'beds': 4,\n",
    "    'baths': 3.5,\n",
    "    'area': 3100,\n",
    "    'yearBuilt': 2008, # actually 1979 but substantially remodeled in 2008 so we'll use the newer date\n",
    "    'lotSize': 9900\n",
    "}\n",
    "df = df.append(pd.DataFrame(my_house,index=[0]))"
   ]
  },
  {
   "cell_type": "code",
   "execution_count": 117,
   "metadata": {},
   "outputs": [],
   "source": [
    "for col in df_norm.columns:\n",
    "    mx = df_norm[col].max()\n",
    "    mn = df_norm[col].min()\n",
    "    df_norm[col] = (df_norm[col] - mn)/(mx-mn)"
   ]
  },
  {
   "cell_type": "code",
   "execution_count": 118,
   "metadata": {},
   "outputs": [
    {
     "data": {
      "text/html": [
       "<div>\n",
       "<style scoped>\n",
       "    .dataframe tbody tr th:only-of-type {\n",
       "        vertical-align: middle;\n",
       "    }\n",
       "\n",
       "    .dataframe tbody tr th {\n",
       "        vertical-align: top;\n",
       "    }\n",
       "\n",
       "    .dataframe thead th {\n",
       "        text-align: right;\n",
       "    }\n",
       "</style>\n",
       "<table border=\"1\" class=\"dataframe\">\n",
       "  <thead>\n",
       "    <tr style=\"text-align: right;\">\n",
       "      <th></th>\n",
       "      <th>beds</th>\n",
       "      <th>baths</th>\n",
       "      <th>area</th>\n",
       "      <th>yearBuilt</th>\n",
       "      <th>lotSize</th>\n",
       "    </tr>\n",
       "  </thead>\n",
       "  <tbody>\n",
       "    <tr>\n",
       "      <th>count</th>\n",
       "      <td>368.000000</td>\n",
       "      <td>368.000000</td>\n",
       "      <td>368.000000</td>\n",
       "      <td>368.000000</td>\n",
       "      <td>368.000000</td>\n",
       "    </tr>\n",
       "    <tr>\n",
       "      <th>mean</th>\n",
       "      <td>0.571196</td>\n",
       "      <td>0.325019</td>\n",
       "      <td>0.269576</td>\n",
       "      <td>0.546438</td>\n",
       "      <td>0.061136</td>\n",
       "    </tr>\n",
       "    <tr>\n",
       "      <th>std</th>\n",
       "      <td>0.151780</td>\n",
       "      <td>0.136885</td>\n",
       "      <td>0.112529</td>\n",
       "      <td>0.220015</td>\n",
       "      <td>0.086820</td>\n",
       "    </tr>\n",
       "    <tr>\n",
       "      <th>min</th>\n",
       "      <td>0.000000</td>\n",
       "      <td>0.000000</td>\n",
       "      <td>0.000000</td>\n",
       "      <td>0.000000</td>\n",
       "      <td>0.000000</td>\n",
       "    </tr>\n",
       "    <tr>\n",
       "      <th>25%</th>\n",
       "      <td>0.400000</td>\n",
       "      <td>0.285714</td>\n",
       "      <td>0.192112</td>\n",
       "      <td>0.392857</td>\n",
       "      <td>0.018817</td>\n",
       "    </tr>\n",
       "    <tr>\n",
       "      <th>50%</th>\n",
       "      <td>0.600000</td>\n",
       "      <td>0.285714</td>\n",
       "      <td>0.254874</td>\n",
       "      <td>0.508929</td>\n",
       "      <td>0.034186</td>\n",
       "    </tr>\n",
       "    <tr>\n",
       "      <th>75%</th>\n",
       "      <td>0.600000</td>\n",
       "      <td>0.428571</td>\n",
       "      <td>0.325188</td>\n",
       "      <td>0.714286</td>\n",
       "      <td>0.070678</td>\n",
       "    </tr>\n",
       "    <tr>\n",
       "      <th>max</th>\n",
       "      <td>1.000000</td>\n",
       "      <td>1.000000</td>\n",
       "      <td>1.000000</td>\n",
       "      <td>1.000000</td>\n",
       "      <td>1.000000</td>\n",
       "    </tr>\n",
       "  </tbody>\n",
       "</table>\n",
       "</div>"
      ],
      "text/plain": [
       "             beds       baths        area   yearBuilt     lotSize\n",
       "count  368.000000  368.000000  368.000000  368.000000  368.000000\n",
       "mean     0.571196    0.325019    0.269576    0.546438    0.061136\n",
       "std      0.151780    0.136885    0.112529    0.220015    0.086820\n",
       "min      0.000000    0.000000    0.000000    0.000000    0.000000\n",
       "25%      0.400000    0.285714    0.192112    0.392857    0.018817\n",
       "50%      0.600000    0.285714    0.254874    0.508929    0.034186\n",
       "75%      0.600000    0.428571    0.325188    0.714286    0.070678\n",
       "max      1.000000    1.000000    1.000000    1.000000    1.000000"
      ]
     },
     "execution_count": 118,
     "metadata": {},
     "output_type": "execute_result"
    }
   ],
   "source": [
    "df_norm.describe()"
   ]
  },
  {
   "cell_type": "code",
   "execution_count": 119,
   "metadata": {},
   "outputs": [],
   "source": [
    "# convert the dataframe to an array\n",
    "array_norm = np.array(df_norm)\n",
    "\n",
    "# now pull the house off the end of the dataframe\n",
    "my_house_norm = array_norm[-1:]\n",
    "array_norm = array_norm[:-1]\n",
    "df_norm = df_norm[:-1]\n",
    "\n",
    "# compute the euclidian distances from all the houses to my house\n",
    "df_norm['dist'] = euclidean_distances(array_norm, my_house_norm)"
   ]
  },
  {
   "cell_type": "code",
   "execution_count": 120,
   "metadata": {},
   "outputs": [],
   "source": [
    "# now we can get the nearest neighbors\n",
    "top5_neighbors = df_norm.sort_values(by='dist').head()"
   ]
  },
  {
   "cell_type": "markdown",
   "metadata": {},
   "source": [
    "Having found the 5 nearest neighbors based on normalized euclidian distances we can now look at the actual properties:"
   ]
  },
  {
   "cell_type": "code",
   "execution_count": 121,
   "metadata": {},
   "outputs": [
    {
     "data": {
      "text/html": [
       "<div>\n",
       "<style scoped>\n",
       "    .dataframe tbody tr th:only-of-type {\n",
       "        vertical-align: middle;\n",
       "    }\n",
       "\n",
       "    .dataframe tbody tr th {\n",
       "        vertical-align: top;\n",
       "    }\n",
       "\n",
       "    .dataframe thead th {\n",
       "        text-align: right;\n",
       "    }\n",
       "</style>\n",
       "<table border=\"1\" class=\"dataframe\">\n",
       "  <thead>\n",
       "    <tr style=\"text-align: right;\">\n",
       "      <th></th>\n",
       "      <th>address</th>\n",
       "      <th>zipcode</th>\n",
       "      <th>latitude</th>\n",
       "      <th>longitude</th>\n",
       "      <th>beds</th>\n",
       "      <th>baths</th>\n",
       "      <th>area</th>\n",
       "      <th>dateSold</th>\n",
       "      <th>yearBuilt</th>\n",
       "      <th>lotSize</th>\n",
       "      <th>zestimate</th>\n",
       "      <th>sellingPrice</th>\n",
       "      <th>sellerAgent</th>\n",
       "      <th>sellerAgentUrl</th>\n",
       "      <th>buyerAgent</th>\n",
       "      <th>buyerAgentUrl</th>\n",
       "      <th>listedAt</th>\n",
       "      <th>firstListingPrice</th>\n",
       "      <th>timesListed</th>\n",
       "      <th>zEstimate_at_listing</th>\n",
       "      <th>zEstimate_date</th>\n",
       "      <th>url</th>\n",
       "      <th>yearSold</th>\n",
       "      <th>zEstimate ratio</th>\n",
       "      <th>listing ratio</th>\n",
       "      <th>days to sell</th>\n",
       "      <th>price per sf</th>\n",
       "    </tr>\n",
       "  </thead>\n",
       "  <tbody>\n",
       "    <tr>\n",
       "      <th>15571972</th>\n",
       "      <td>860 Piedmont Way, Redwood City, CA 94062</td>\n",
       "      <td>94062.0</td>\n",
       "      <td>37.464813</td>\n",
       "      <td>-122.251883</td>\n",
       "      <td>4</td>\n",
       "      <td>3.0</td>\n",
       "      <td>2470</td>\n",
       "      <td>2019-06-20</td>\n",
       "      <td>1958</td>\n",
       "      <td>7379.0</td>\n",
       "      <td>2045912.0</td>\n",
       "      <td>2100000.0</td>\n",
       "      <td>Violaine Mraihi</td>\n",
       "      <td>https://www.zillow.com/profile/violaine/</td>\n",
       "      <td>Tom He</td>\n",
       "      <td>https://www.zillow.com/profile/loan2home/</td>\n",
       "      <td>2019-05-02</td>\n",
       "      <td>2075000.0</td>\n",
       "      <td>1.0</td>\n",
       "      <td>2071242.0</td>\n",
       "      <td>2019-04-30</td>\n",
       "      <td>https://www.zillow.com/homedetails/860-Piedmon...</td>\n",
       "      <td>2019.0</td>\n",
       "      <td>1.013884</td>\n",
       "      <td>1.012048</td>\n",
       "      <td>49.0</td>\n",
       "      <td>850.202429</td>\n",
       "    </tr>\n",
       "    <tr>\n",
       "      <th>15572403</th>\n",
       "      <td>967 Stony Hill Rd, Redwood City, CA 94061</td>\n",
       "      <td>94061.0</td>\n",
       "      <td>37.457506</td>\n",
       "      <td>-122.252125</td>\n",
       "      <td>4</td>\n",
       "      <td>4.0</td>\n",
       "      <td>2481</td>\n",
       "      <td>2019-06-07</td>\n",
       "      <td>1957</td>\n",
       "      <td>7701.0</td>\n",
       "      <td>2781903.0</td>\n",
       "      <td>2850000.0</td>\n",
       "      <td>Lena Griffin</td>\n",
       "      <td>https://www.zillow.com/profile/LenaGriffin/</td>\n",
       "      <td>Judy Citron</td>\n",
       "      <td>https://www.zillow.com/profile/Judy-Citron/</td>\n",
       "      <td>2019-04-19</td>\n",
       "      <td>2795000.0</td>\n",
       "      <td>1.0</td>\n",
       "      <td>2083781.0</td>\n",
       "      <td>2019-03-31</td>\n",
       "      <td>https://www.zillow.com/homedetails/967-Stony-H...</td>\n",
       "      <td>2019.0</td>\n",
       "      <td>1.367706</td>\n",
       "      <td>1.019678</td>\n",
       "      <td>49.0</td>\n",
       "      <td>1148.730351</td>\n",
       "    </tr>\n",
       "    <tr>\n",
       "      <th>15572400</th>\n",
       "      <td>985 Stony Hill Rd, Redwood City, CA 94061</td>\n",
       "      <td>94061.0</td>\n",
       "      <td>37.457251</td>\n",
       "      <td>-122.251437</td>\n",
       "      <td>4</td>\n",
       "      <td>4.0</td>\n",
       "      <td>2340</td>\n",
       "      <td>2018-05-15</td>\n",
       "      <td>1957</td>\n",
       "      <td>7971.0</td>\n",
       "      <td>2108630.0</td>\n",
       "      <td>2200000.0</td>\n",
       "      <td>NaN</td>\n",
       "      <td>NaN</td>\n",
       "      <td>Lily Miao</td>\n",
       "      <td>https://www.zillow.com/profile/Lily-Miao/</td>\n",
       "      <td>2018-04-16</td>\n",
       "      <td>1898000.0</td>\n",
       "      <td>1.0</td>\n",
       "      <td>2023002.0</td>\n",
       "      <td>2018-03-31</td>\n",
       "      <td>https://www.zillow.com/homedetails/985-Stony-H...</td>\n",
       "      <td>2018.0</td>\n",
       "      <td>1.087493</td>\n",
       "      <td>1.159115</td>\n",
       "      <td>29.0</td>\n",
       "      <td>940.170940</td>\n",
       "    </tr>\n",
       "    <tr>\n",
       "      <th>15572528</th>\n",
       "      <td>991 Cambridge Rd, Redwood City, CA 94061</td>\n",
       "      <td>94061.0</td>\n",
       "      <td>37.455176</td>\n",
       "      <td>-122.253486</td>\n",
       "      <td>4</td>\n",
       "      <td>3.0</td>\n",
       "      <td>2425</td>\n",
       "      <td>2018-04-10</td>\n",
       "      <td>1958</td>\n",
       "      <td>8585.0</td>\n",
       "      <td>2218030.0</td>\n",
       "      <td>2300000.0</td>\n",
       "      <td>NaN</td>\n",
       "      <td>NaN</td>\n",
       "      <td>Judy Citron</td>\n",
       "      <td>https://www.zillow.com/profile/Judy-Citron/</td>\n",
       "      <td>2018-03-09</td>\n",
       "      <td>1925000.0</td>\n",
       "      <td>1.0</td>\n",
       "      <td>1909479.0</td>\n",
       "      <td>2018-02-28</td>\n",
       "      <td>https://www.zillow.com/homedetails/991-Cambrid...</td>\n",
       "      <td>2018.0</td>\n",
       "      <td>1.204517</td>\n",
       "      <td>1.194805</td>\n",
       "      <td>32.0</td>\n",
       "      <td>948.453608</td>\n",
       "    </tr>\n",
       "    <tr>\n",
       "      <th>15572386</th>\n",
       "      <td>920 Pleasant Hill Rd, Redwood City, CA 94061</td>\n",
       "      <td>94061.0</td>\n",
       "      <td>37.458685</td>\n",
       "      <td>-122.253234</td>\n",
       "      <td>4</td>\n",
       "      <td>4.0</td>\n",
       "      <td>2590</td>\n",
       "      <td>2017-10-12</td>\n",
       "      <td>1956</td>\n",
       "      <td>8799.0</td>\n",
       "      <td>2271192.0</td>\n",
       "      <td>2200000.0</td>\n",
       "      <td>Sandy Rostad</td>\n",
       "      <td>https://www.zillow.com/profile/user7604814/</td>\n",
       "      <td>Debbie Sharp</td>\n",
       "      <td>https://www.zillow.com/profile/The-Sharp-Group/</td>\n",
       "      <td>2017-08-17</td>\n",
       "      <td>2099000.0</td>\n",
       "      <td>1.0</td>\n",
       "      <td>2157239.0</td>\n",
       "      <td>2017-07-31</td>\n",
       "      <td>https://www.zillow.com/homedetails/920-Pleasan...</td>\n",
       "      <td>2017.0</td>\n",
       "      <td>1.019822</td>\n",
       "      <td>1.048118</td>\n",
       "      <td>56.0</td>\n",
       "      <td>849.420849</td>\n",
       "    </tr>\n",
       "  </tbody>\n",
       "</table>\n",
       "</div>"
      ],
      "text/plain": [
       "                                               address  zipcode   latitude  \\\n",
       "15571972      860 Piedmont Way, Redwood City, CA 94062  94062.0  37.464813   \n",
       "15572403     967 Stony Hill Rd, Redwood City, CA 94061  94061.0  37.457506   \n",
       "15572400     985 Stony Hill Rd, Redwood City, CA 94061  94061.0  37.457251   \n",
       "15572528      991 Cambridge Rd, Redwood City, CA 94061  94061.0  37.455176   \n",
       "15572386  920 Pleasant Hill Rd, Redwood City, CA 94061  94061.0  37.458685   \n",
       "\n",
       "           longitude  beds  baths  area    dateSold  yearBuilt  lotSize  \\\n",
       "15571972 -122.251883     4    3.0  2470  2019-06-20       1958   7379.0   \n",
       "15572403 -122.252125     4    4.0  2481  2019-06-07       1957   7701.0   \n",
       "15572400 -122.251437     4    4.0  2340  2018-05-15       1957   7971.0   \n",
       "15572528 -122.253486     4    3.0  2425  2018-04-10       1958   8585.0   \n",
       "15572386 -122.253234     4    4.0  2590  2017-10-12       1956   8799.0   \n",
       "\n",
       "          zestimate  sellingPrice      sellerAgent  \\\n",
       "15571972  2045912.0     2100000.0  Violaine Mraihi   \n",
       "15572403  2781903.0     2850000.0     Lena Griffin   \n",
       "15572400  2108630.0     2200000.0              NaN   \n",
       "15572528  2218030.0     2300000.0              NaN   \n",
       "15572386  2271192.0     2200000.0     Sandy Rostad   \n",
       "\n",
       "                                       sellerAgentUrl    buyerAgent  \\\n",
       "15571972     https://www.zillow.com/profile/violaine/        Tom He   \n",
       "15572403  https://www.zillow.com/profile/LenaGriffin/   Judy Citron   \n",
       "15572400                                          NaN     Lily Miao   \n",
       "15572528                                          NaN   Judy Citron   \n",
       "15572386  https://www.zillow.com/profile/user7604814/  Debbie Sharp   \n",
       "\n",
       "                                            buyerAgentUrl    listedAt  \\\n",
       "15571972        https://www.zillow.com/profile/loan2home/  2019-05-02   \n",
       "15572403      https://www.zillow.com/profile/Judy-Citron/  2019-04-19   \n",
       "15572400        https://www.zillow.com/profile/Lily-Miao/  2018-04-16   \n",
       "15572528      https://www.zillow.com/profile/Judy-Citron/  2018-03-09   \n",
       "15572386  https://www.zillow.com/profile/The-Sharp-Group/  2017-08-17   \n",
       "\n",
       "          firstListingPrice  timesListed  zEstimate_at_listing zEstimate_date  \\\n",
       "15571972          2075000.0          1.0             2071242.0     2019-04-30   \n",
       "15572403          2795000.0          1.0             2083781.0     2019-03-31   \n",
       "15572400          1898000.0          1.0             2023002.0     2018-03-31   \n",
       "15572528          1925000.0          1.0             1909479.0     2018-02-28   \n",
       "15572386          2099000.0          1.0             2157239.0     2017-07-31   \n",
       "\n",
       "                                                        url  yearSold  \\\n",
       "15571972  https://www.zillow.com/homedetails/860-Piedmon...    2019.0   \n",
       "15572403  https://www.zillow.com/homedetails/967-Stony-H...    2019.0   \n",
       "15572400  https://www.zillow.com/homedetails/985-Stony-H...    2018.0   \n",
       "15572528  https://www.zillow.com/homedetails/991-Cambrid...    2018.0   \n",
       "15572386  https://www.zillow.com/homedetails/920-Pleasan...    2017.0   \n",
       "\n",
       "          zEstimate ratio  listing ratio  days to sell  price per sf  \n",
       "15571972         1.013884       1.012048          49.0    850.202429  \n",
       "15572403         1.367706       1.019678          49.0   1148.730351  \n",
       "15572400         1.087493       1.159115          29.0    940.170940  \n",
       "15572528         1.204517       1.194805          32.0    948.453608  \n",
       "15572386         1.019822       1.048118          56.0    849.420849  "
      ]
     },
     "execution_count": 121,
     "metadata": {},
     "output_type": "execute_result"
    }
   ],
   "source": [
    "df.iloc[df.index.isin(top5_neighbors.index)]"
   ]
  }
 ],
 "metadata": {
  "kernelspec": {
   "display_name": "Python 3",
   "language": "python",
   "name": "python3"
  },
  "language_info": {
   "codemirror_mode": {
    "name": "ipython",
    "version": 3
   },
   "file_extension": ".py",
   "mimetype": "text/x-python",
   "name": "python",
   "nbconvert_exporter": "python",
   "pygments_lexer": "ipython3",
   "version": "3.6.10"
  }
 },
 "nbformat": 4,
 "nbformat_minor": 4
}
